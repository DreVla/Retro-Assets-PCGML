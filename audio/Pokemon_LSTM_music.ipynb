{
  "cells": [
    {
      "cell_type": "code",
      "execution_count": null,
      "metadata": {
        "id": "OMBcJYYD8Rrq",
        "colab": {
          "base_uri": "https://localhost:8080/"
        },
        "outputId": "71176e3b-ce45-43ff-98ce-27f6ff02c17f"
      },
      "outputs": [
        {
          "output_type": "stream",
          "name": "stdout",
          "text": [
            "Drive already mounted at /content/gdrive; to attempt to forcibly remount, call drive.mount(\"/content/gdrive\", force_remount=True).\n"
          ]
        }
      ],
      "source": [
        "from google.colab import drive\n",
        "drive.mount('/content/gdrive')\n",
        "\n",
        "original_cave_path = \"gdrive/MyDrive/Colab Notebooks/pokemon_tracks/new_tracks/cave/*.mid\"\n",
        "original_city_path = \"gdrive/MyDrive/Colab Notebooks/pokemon_tracks/new_tracks/city/*.mid\"\n",
        "original_forest_path = \"gdrive/MyDrive/Colab Notebooks/pokemon_tracks/new_tracks/forest/*.mid\"\n",
        "original_mountain_path = \"gdrive/MyDrive/Colab Notebooks/pokemon_tracks/new_tracks/mountain/*.mid\"\n",
        "original_route_path = \"gdrive/MyDrive/Colab Notebooks/pokemon_tracks/new_tracks/route/*.mid\"\n",
        "original_sea_ocean_path = \"gdrive/MyDrive/Colab Notebooks/pokemon_tracks/new_tracks/sea_ocean/*.mid\"\n",
        "original_tower_path = \"gdrive/MyDrive/Colab Notebooks/pokemon_tracks/new_tracks/tower/*.mid\"\n",
        "\n",
        "battle_output_path = 'gdrive/MyDrive/Colab Notebooks/pokemon_tracks/battle_output/'\n",
        "ow_output_path = 'gdrive/MyDrive/Colab Notebooks/pokemon_tracks/ow_output/'\n",
        "mixed_output_path = 'gdrive/MyDrive/Colab Notebooks/pokemon_tracks/mixed_output/'\n",
        "\n",
        "battle_tracks_path = 'gdrive/MyDrive/Colab Notebooks/pokemon_tracks/pkmn_battle_ost/*.mid'\n",
        "overworld_tracks_path = 'gdrive/MyDrive/Colab Notebooks/pokemon_tracks/pkmn_ow_ost/*.mid'\n",
        "mixed_tracks_path = 'gdrive/MyDrive/Colab Notebooks/pokemon_tracks/pkmn_ost/*.mid'\n",
        "\n",
        "battle_output_tracks_path = 'gdrive/MyDrive/Colab Notebooks/pokemon_tracks/battle_output/trained3/*.mid'\n",
        "overworld_output_tracks_path = 'gdrive/MyDrive/Colab Notebooks/pokemon_tracks/ow_output/trained/*.mid'\n",
        "mixed_output_tracks_path = 'gdrive/MyDrive/Colab Notebooks/pokemon_tracks/mixed_output/trained/*.mid'"
      ]
    },
    {
      "cell_type": "code",
      "execution_count": null,
      "metadata": {
        "id": "63rnAs2mDaY1",
        "colab": {
          "base_uri": "https://localhost:8080/"
        },
        "outputId": "7756288e-a076-448b-c6db-1a07c968891e"
      },
      "outputs": [
        {
          "output_type": "stream",
          "name": "stdout",
          "text": [
            "Looking in indexes: https://pypi.org/simple, https://us-python.pkg.dev/colab-wheels/public/simple/\n",
            "Requirement already satisfied: music21 in /usr/local/lib/python3.10/dist-packages (8.1.0)\n",
            "Requirement already satisfied: chardet in /usr/local/lib/python3.10/dist-packages (from music21) (4.0.0)\n",
            "Requirement already satisfied: joblib in /usr/local/lib/python3.10/dist-packages (from music21) (1.2.0)\n",
            "Requirement already satisfied: jsonpickle in /usr/local/lib/python3.10/dist-packages (from music21) (3.0.1)\n",
            "Requirement already satisfied: matplotlib in /usr/local/lib/python3.10/dist-packages (from music21) (3.7.1)\n",
            "Requirement already satisfied: more-itertools in /usr/local/lib/python3.10/dist-packages (from music21) (9.1.0)\n",
            "Requirement already satisfied: numpy in /usr/local/lib/python3.10/dist-packages (from music21) (1.22.4)\n",
            "Requirement already satisfied: requests in /usr/local/lib/python3.10/dist-packages (from music21) (2.27.1)\n",
            "Requirement already satisfied: webcolors>=1.5 in /usr/local/lib/python3.10/dist-packages (from music21) (1.13)\n",
            "Requirement already satisfied: contourpy>=1.0.1 in /usr/local/lib/python3.10/dist-packages (from matplotlib->music21) (1.0.7)\n",
            "Requirement already satisfied: cycler>=0.10 in /usr/local/lib/python3.10/dist-packages (from matplotlib->music21) (0.11.0)\n",
            "Requirement already satisfied: fonttools>=4.22.0 in /usr/local/lib/python3.10/dist-packages (from matplotlib->music21) (4.39.3)\n",
            "Requirement already satisfied: kiwisolver>=1.0.1 in /usr/local/lib/python3.10/dist-packages (from matplotlib->music21) (1.4.4)\n",
            "Requirement already satisfied: packaging>=20.0 in /usr/local/lib/python3.10/dist-packages (from matplotlib->music21) (23.1)\n",
            "Requirement already satisfied: pillow>=6.2.0 in /usr/local/lib/python3.10/dist-packages (from matplotlib->music21) (8.4.0)\n",
            "Requirement already satisfied: pyparsing>=2.3.1 in /usr/local/lib/python3.10/dist-packages (from matplotlib->music21) (3.0.9)\n",
            "Requirement already satisfied: python-dateutil>=2.7 in /usr/local/lib/python3.10/dist-packages (from matplotlib->music21) (2.8.2)\n",
            "Requirement already satisfied: urllib3<1.27,>=1.21.1 in /usr/local/lib/python3.10/dist-packages (from requests->music21) (1.26.15)\n",
            "Requirement already satisfied: certifi>=2017.4.17 in /usr/local/lib/python3.10/dist-packages (from requests->music21) (2022.12.7)\n",
            "Requirement already satisfied: charset-normalizer~=2.0.0 in /usr/local/lib/python3.10/dist-packages (from requests->music21) (2.0.12)\n",
            "Requirement already satisfied: idna<4,>=2.5 in /usr/local/lib/python3.10/dist-packages (from requests->music21) (3.4)\n",
            "Requirement already satisfied: six>=1.5 in /usr/local/lib/python3.10/dist-packages (from python-dateutil>=2.7->matplotlib->music21) (1.16.0)\n"
          ]
        }
      ],
      "source": [
        "!pip install music21"
      ]
    },
    {
      "cell_type": "code",
      "execution_count": null,
      "metadata": {
        "id": "oMRzvdc5L1E-",
        "colab": {
          "base_uri": "https://localhost:8080/"
        },
        "outputId": "6ee27780-992e-4149-ca32-8f1d683ea228"
      },
      "outputs": [
        {
          "output_type": "stream",
          "name": "stdout",
          "text": [
            "Looking in indexes: https://pypi.org/simple, https://us-python.pkg.dev/colab-wheels/public/simple/\n",
            "Requirement already satisfied: python-ly in /usr/local/lib/python3.10/dist-packages (0.9.7)\n"
          ]
        }
      ],
      "source": [
        "!pip install python-ly"
      ]
    },
    {
      "cell_type": "code",
      "execution_count": null,
      "metadata": {
        "id": "xA6pMef7GXKj",
        "colab": {
          "base_uri": "https://localhost:8080/"
        },
        "outputId": "cdb5b8ae-3000-45fd-d62c-eb9c9c5ce69c"
      },
      "outputs": [
        {
          "output_type": "stream",
          "name": "stdout",
          "text": [
            "Looking in indexes: https://pypi.org/simple, https://us-python.pkg.dev/colab-wheels/public/simple/\n",
            "Requirement already satisfied: tensorflow-addons in /usr/local/lib/python3.10/dist-packages (0.20.0)\n",
            "Requirement already satisfied: packaging in /usr/local/lib/python3.10/dist-packages (from tensorflow-addons) (23.1)\n",
            "Requirement already satisfied: typeguard<3.0.0,>=2.7 in /usr/local/lib/python3.10/dist-packages (from tensorflow-addons) (2.13.3)\n"
          ]
        }
      ],
      "source": [
        "!pip install tensorflow-addons"
      ]
    },
    {
      "cell_type": "code",
      "execution_count": null,
      "metadata": {
        "id": "FXQwL7PK6H9N",
        "colab": {
          "base_uri": "https://localhost:8080/"
        },
        "outputId": "1a54d84a-ac14-4afb-c7cb-f64788133314"
      },
      "outputs": [
        {
          "output_type": "stream",
          "name": "stdout",
          "text": [
            "Looking in indexes: https://pypi.org/simple, https://us-python.pkg.dev/colab-wheels/public/simple/\n",
            "Requirement already satisfied: pretty_midi in /usr/local/lib/python3.10/dist-packages (0.2.10)\n",
            "Requirement already satisfied: numpy>=1.7.0 in /usr/local/lib/python3.10/dist-packages (from pretty_midi) (1.22.4)\n",
            "Requirement already satisfied: mido>=1.1.16 in /usr/local/lib/python3.10/dist-packages (from pretty_midi) (1.2.10)\n",
            "Requirement already satisfied: six in /usr/local/lib/python3.10/dist-packages (from pretty_midi) (1.16.0)\n"
          ]
        }
      ],
      "source": [
        "!pip install pretty_midi"
      ]
    },
    {
      "cell_type": "code",
      "execution_count": null,
      "metadata": {
        "id": "-8U2_YJ66T_a",
        "colab": {
          "base_uri": "https://localhost:8080/"
        },
        "outputId": "b535283b-1b56-4e8d-b15a-1c102e40b3c2"
      },
      "outputs": [
        {
          "output_type": "stream",
          "name": "stdout",
          "text": [
            "Looking in indexes: https://pypi.org/simple, https://us-python.pkg.dev/colab-wheels/public/simple/\n",
            "Collecting git+https://github.com/sniperwrb/python-midi\n",
            "  Cloning https://github.com/sniperwrb/python-midi to /tmp/pip-req-build-p7eb6lnt\n",
            "  Running command git clone --filter=blob:none --quiet https://github.com/sniperwrb/python-midi /tmp/pip-req-build-p7eb6lnt\n",
            "  Resolved https://github.com/sniperwrb/python-midi to commit ec8071b56500dbf58d5a5650ca81990d855dc49f\n",
            "  Preparing metadata (setup.py) ... \u001b[?25l\u001b[?25hdone\n",
            "Building wheels for collected packages: midi\n",
            "  \u001b[1;31merror\u001b[0m: \u001b[1msubprocess-exited-with-error\u001b[0m\n",
            "  \n",
            "  \u001b[31m×\u001b[0m \u001b[32mpython setup.py bdist_wheel\u001b[0m did not run successfully.\n",
            "  \u001b[31m│\u001b[0m exit code: \u001b[1;36m1\u001b[0m\n",
            "  \u001b[31m╰─>\u001b[0m See above for output.\n",
            "  \n",
            "  \u001b[1;35mnote\u001b[0m: This error originates from a subprocess, and is likely not a problem with pip.\n",
            "  Building wheel for midi (setup.py) ... \u001b[?25lerror\n",
            "\u001b[31m  ERROR: Failed building wheel for midi\u001b[0m\u001b[31m\n",
            "\u001b[0m\u001b[?25h  Running setup.py clean for midi\n",
            "Failed to build midi\n",
            "\u001b[31mERROR: Could not build wheels for midi, which is required to install pyproject.toml-based projects\u001b[0m\u001b[31m\n",
            "\u001b[0m"
          ]
        }
      ],
      "source": [
        "!pip install git+https://github.com/sniperwrb/python-midi"
      ]
    },
    {
      "cell_type": "code",
      "execution_count": null,
      "metadata": {
        "id": "3lUZ-HDy6_w9"
      },
      "outputs": [],
      "source": [
        "\n",
        "# Importing Libraries\n",
        "import tensorflow as tf\n",
        "import tensorflow_addons as tfa\n",
        "import numpy as np\n",
        "import pandas as pd\n",
        "from collections import Counter\n",
        "import random\n",
        "import IPython\n",
        "from IPython.display import Image, Audio\n",
        "import music21\n",
        "from music21 import *\n",
        "from music21 import converter, instrument, note, chord, stream\n",
        "import matplotlib.pyplot as plt\n",
        "import matplotlib.lines as mlines\n",
        "from sklearn.model_selection import train_test_split\n",
        "from keras.models import Sequential\n",
        "from keras.layers import Dense\n",
        "from keras.layers import Dropout\n",
        "from keras.layers import CuDNNLSTM, LSTM, Bidirectional\n",
        "from keras.layers import Activation\n",
        "import keras.backend as K\n",
        "from tensorflow.keras.optimizers import Adamax\n",
        "import seaborn as sns\n",
        "import matplotlib.pyplot as plt\n",
        "import matplotlib.patches as mpatches\n",
        "import warnings\n",
        "import os\n",
        "import glob\n",
        "warnings.filterwarnings(\"ignore\")\n",
        "warnings.simplefilter(\"ignore\")\n",
        "np.random.seed(42)\n",
        "import sys\n",
        "sys.path.append('/content/gdrive/MyDrive/Colab Notebooks')\n",
        "import copy\n",
        "import json\n",
        "from pprint import pprint\n",
        "from sklearn.model_selection import LeaveOneOut"
      ]
    },
    {
      "cell_type": "code",
      "execution_count": null,
      "metadata": {
        "id": "DlTCuXQk7DOd",
        "colab": {
          "base_uri": "https://localhost:8080/"
        },
        "outputId": "4a03c241-f14d-40d0-8717-ad06a471724d"
      },
      "outputs": [
        {
          "output_type": "stream",
          "name": "stdout",
          "text": [
            " Parsing file  14   gdrive/MyDrive/Colab Notebooks/pokemon_tracks/new_tracks/tower/Temp-Tower.midTotal number of notes from midis:  4288\n",
            "First fifty values in the Corpus: ['E4', 'A3', 'D4', '4.9', 'F4', 'A3', 'A4', 'E-4', 'B4', 'E-4', 'D4', 'C5', '11.2', 'A4', 'D4', 'F4', 'C#4', 'E4', 'C#4', 'A3', 'D4', '4.9', 'F4', 'A3', 'D4', 'B-3', 'E4', 'B-3', 'A3', 'A3', 'A3', '10.3', 'E4', 'A2', '4.9', 'D4', '4.9', 'F4', '4.9', '3.5.9', 'B4', 'A2', '2.4', 'C5', '11.2.4', 'A4', '2.4', '1.3.5', 'E4', 'A2']\n"
          ]
        }
      ],
      "source": [
        "############### LOADING DATA ###############\n",
        "# Extracting Notes\n",
        "\n",
        "def extract_notes():\n",
        "    notes = []\n",
        "    for i,file in enumerate(glob.glob(original_tower_path)):\n",
        "      midi = converter.parse(file)\n",
        "      print('\\r', 'Parsing file ', i, \" \",file, end='')\n",
        "      notes_to_parse = None\n",
        "      try: # file has instrument parts\n",
        "        s2 = instrument.partitionByInstrument(midi)\n",
        "        notes_to_parse = s2.parts[0].recurse()\n",
        "      except: # file has notes in a flat structure\n",
        "        notes_to_parse = midi.flat.notes\n",
        "      for element in notes_to_parse:\n",
        "        if isinstance(element, note.Note):\n",
        "          notes.append(str(element.pitch))\n",
        "        elif isinstance(element, chord.Chord):\n",
        "          notes.append('.'.join(str(n) for n in element.normalOrder))\n",
        "    return notes\n",
        "\n",
        "# Getting the list of notes as Corpus\n",
        "Corpus = extract_notes()\n",
        "print(\"Total number of notes from midis: \", len(Corpus))\n",
        "\n",
        "# First 50 values in corpus\n",
        "print(\"First fifty values in the Corpus:\", Corpus[:50])"
      ]
    },
    {
      "cell_type": "code",
      "execution_count": null,
      "metadata": {
        "id": "JIR4S_cp7PcZ",
        "colab": {
          "base_uri": "https://localhost:8080/",
          "height": 403
        },
        "outputId": "90f1133b-12d5-4461-cfb7-9ae632a64bd6"
      },
      "outputs": [
        {
          "output_type": "stream",
          "name": "stdout",
          "text": [
            "Total unique notes in the Corpus: 198\n",
            "Average recurrenc for a note in Corpus: 21.656565656565657\n",
            "Most frequent note in Corpus appeared: 398 times\n",
            "Least frequent note in Corpus appeared: 1 time\n"
          ]
        },
        {
          "output_type": "display_data",
          "data": {
            "text/plain": [
              "<Figure size 1800x300 with 1 Axes>"
            ],
            "image/png": "[encoded data removed]"
          },
          "metadata": {
            "image/png": {
              "width": 1470,
              "height": 315
            }
          }
        }
      ],
      "source": [
        "# Creating a count dictionary\n",
        "count_num = Counter(Corpus)\n",
        "print(\"Total unique notes in the Corpus:\", len(count_num))\n",
        "\n",
        "# Exploring the notes dictionary\n",
        "Notes = list(count_num.keys())\n",
        "Recurrence = list(count_num.values())\n",
        "# Average recurrenc for a note in Corpus\n",
        "\n",
        "def Average(lst):\n",
        "    return sum(lst) / len(lst)\n",
        "\n",
        "print(\"Average recurrenc for a note in Corpus:\", Average(Recurrence))\n",
        "print(\"Most frequent note in Corpus appeared:\", max(Recurrence), \"times\")\n",
        "print(\"Least frequent note in Corpus appeared:\", min(Recurrence), \"time\")\n",
        "\n",
        "# Plotting the distribution of Notes\n",
        "plt.figure(figsize=(18, 3), facecolor=\"#97BACB\")\n",
        "bins = np.arange(0, (max(Recurrence)), 50)\n",
        "plt.hist(Recurrence, bins=bins, color=\"#97BACB\")\n",
        "plt.axvline(x=100, color=\"#DBACC1\")\n",
        "plt.title(\"Frequency Distribution Of Notes In The Corpus\")\n",
        "plt.xlabel(\"Frequency Of Chords in Corpus\")\n",
        "plt.ylabel(\"Number Of Chords\")\n",
        "plt.show()"
      ]
    },
    {
      "cell_type": "code",
      "execution_count": null,
      "metadata": {
        "colab": {
          "base_uri": "https://localhost:8080/"
        },
        "id": "1WaL5FMd7UTS",
        "outputId": "d19d66c1-3b2f-405b-a6b7-e6290494e0cf"
      },
      "outputs": [
        {
          "output_type": "stream",
          "name": "stdout",
          "text": [
            "Total number of characters: 4288\n",
            "Number of unique characters: 198\n",
            "[[[0.96969697]\n",
            "  [0.34343434]\n",
            "  [0.91919192]\n",
            "  ...\n",
            "  [0.6969697 ]\n",
            "  [0.17676768]\n",
            "  [0.54040404]]\n",
            "\n",
            " [[0.81313131]\n",
            "  [0.75757576]\n",
            "  [0.82323232]\n",
            "  ...\n",
            "  [0.93939394]\n",
            "  [0.77777778]\n",
            "  [0.75757576]]\n",
            "\n",
            " [[0.81313131]\n",
            "  [0.82828283]\n",
            "  [0.81313131]\n",
            "  ...\n",
            "  [0.82828283]\n",
            "  [0.77777778]\n",
            "  [0.81313131]]\n",
            "\n",
            " ...\n",
            "\n",
            " [[0.81313131]\n",
            "  [0.72727273]\n",
            "  [0.89393939]\n",
            "  ...\n",
            "  [0.81818182]\n",
            "  [0.81818182]\n",
            "  [0.81818182]]\n",
            "\n",
            " [[0.77777778]\n",
            "  [0.82323232]\n",
            "  [0.77777778]\n",
            "  ...\n",
            "  [0.81818182]\n",
            "  [0.81818182]\n",
            "  [0.81818182]]\n",
            "\n",
            " [[0.17171717]\n",
            "  [0.59090909]\n",
            "  [0.22222222]\n",
            "  ...\n",
            "  [0.76262626]\n",
            "  [0.34848485]\n",
            "  [0.28282828]]]\n"
          ]
        }
      ],
      "source": [
        "############### DATA PREPROCESSING ###############\n",
        "\n",
        "# Storing all the unique characters present in my corpus to bult a mapping dic.\n",
        "symb = sorted(list(set(Corpus)))\n",
        "\n",
        "L_corpus = len(Corpus)  # length of corpus\n",
        "L_symb = len(symb)  # length of total unique characters\n",
        "\n",
        "# Building dictionary to access the vocabulary from indices and vice versa\n",
        "mapping = dict((c, i) for i, c in enumerate(symb))\n",
        "reverse_mapping = dict((i, c) for i, c in enumerate(symb))\n",
        "\n",
        "print(\"Total number of characters:\", L_corpus)\n",
        "print(\"Number of unique characters:\", L_symb)\n",
        "\n",
        "# Splitting the Corpus in equal length of strings and output target\n",
        "length = 100\n",
        "net_input = []\n",
        "targets = []\n",
        "for i in range(0, L_corpus - length, 1):\n",
        "    feature = Corpus[i:i + length]\n",
        "    target = Corpus[i + length]\n",
        "    net_input.append([mapping[j] for j in feature])\n",
        "    targets.append(mapping[target])\n",
        "\n",
        "\n",
        "L_datapoints = len(targets)\n",
        "\n",
        "# reshape X and normalize\n",
        "X = (np.reshape(net_input, (L_datapoints, length, 1)))/ float(L_symb)\n",
        "# one hot encode the output variable\n",
        "y = tf.keras.utils.to_categorical(targets)\n",
        "\n",
        "# Splitting Train and Seed datasets\n",
        "\n",
        "# Taking out a subset of data to be used as seed\n",
        "X_train, X_val, y_train, y_val = train_test_split(X, y, test_size=0.2, random_state=42)\n",
        "print(X_train)"
      ]
    },
    {
      "cell_type": "code",
      "execution_count": null,
      "metadata": {
        "id": "CaQAWfPv7X5p"
      },
      "outputs": [],
      "source": [
        "# Building the model\n",
        "\n",
        "#Initialising the Model\n",
        "model = Sequential()\n",
        "#Adding layers\n",
        "model.add(CuDNNLSTM(512, input_shape=(X.shape[1], X.shape[2]), return_sequences=True))\n",
        "model.add( tfa.layers.GELU() )\n",
        "model.add(Dropout(0.2))\n",
        "model.add(CuDNNLSTM(512))\n",
        "model.add( tfa.layers.GELU() )\n",
        "model.add(Dense(256))\n",
        "model.add(Dropout(0.2))\n",
        "model.add(Dense(y.shape[1], activation='softmax'))\n",
        "#Compiling the model for training\n",
        "model.compile(loss='categorical_crossentropy', optimizer=tfa.optimizers.Yogi(learning_rate=0.01), metrics=['accuracy'])"
      ]
    },
    {
      "cell_type": "code",
      "execution_count": null,
      "metadata": {
        "id": "rWrLYBRwaVC5",
        "colab": {
          "base_uri": "https://localhost:8080/"
        },
        "outputId": "fe738925-c488-4b8e-977f-3fb2652d709b"
      },
      "outputs": [
        {
          "output_type": "stream",
          "name": "stdout",
          "text": [
            "Model: \"sequential_7\"\n",
            "_________________________________________________________________\n",
            " Layer (type)                Output Shape              Param #   \n",
            "=================================================================\n",
            " cu_dnnlstm_14 (CuDNNLSTM)   (None, 100, 512)          1054720   \n",
            "                                                                 \n",
            " gelu_14 (GELU)              (None, 100, 512)          0         \n",
            "                                                                 \n",
            " dropout_14 (Dropout)        (None, 100, 512)          0         \n",
            "                                                                 \n",
            " cu_dnnlstm_15 (CuDNNLSTM)   (None, 512)               2101248   \n",
            "                                                                 \n",
            " gelu_15 (GELU)              (None, 512)               0         \n",
            "                                                                 \n",
            " dense_14 (Dense)            (None, 256)               131328    \n",
            "                                                                 \n",
            " dropout_15 (Dropout)        (None, 256)               0         \n",
            "                                                                 \n",
            " dense_15 (Dense)            (None, 198)               50886     \n",
            "                                                                 \n",
            "=================================================================\n",
            "Total params: 3,338,182\n",
            "Trainable params: 3,338,182\n",
            "Non-trainable params: 0\n",
            "_________________________________________________________________\n"
          ]
        }
      ],
      "source": [
        "# Show the model architecture\n",
        "model.summary()"
      ]
    },
    {
      "cell_type": "code",
      "execution_count": null,
      "metadata": {
        "id": "kRjaMqqQSltn"
      },
      "outputs": [],
      "source": [
        "# Recreate the exact same model, including its weights and the optimizer\n",
        "model = tf.keras.models.load_model('gdrive/MyDrive/Colab Notebooks/pokemon_tracks/mixed_music_trained_model_255.h5')"
      ]
    },
    {
      "cell_type": "code",
      "execution_count": null,
      "metadata": {
        "id": "aC5mH_Oe0hff"
      },
      "outputs": [],
      "source": [
        "# Training the Model\n",
        "history = model.fit(X_train, y_train, batch_size=256, epochs=70)"
      ]
    },
    {
      "cell_type": "code",
      "execution_count": null,
      "metadata": {
        "id": "sv-qyZw67biN"
      },
      "outputs": [],
      "source": [
        "#Plotting the learnings\n",
        "history_df = pd.DataFrame(history.history)\n",
        "fig = plt.figure(figsize=(15,4), facecolor=\"#97BACB\")\n",
        "fig.suptitle(\"Learning Plot of Model for Loss\")\n",
        "pl=sns.lineplot(data=history_df[\"loss\"],color=\"#444160\")\n",
        "pl.set(ylabel =\"Training Loss\")\n",
        "pl.set(xlabel =\"Epochs\")"
      ]
    },
    {
      "cell_type": "code",
      "execution_count": null,
      "metadata": {
        "id": "tbAixQNhlXvH"
      },
      "outputs": [],
      "source": [
        "# Save the entire model to a HDF5 file.\n",
        "# The '.h5' extension indicates that the model should be saved to HDF5.\n",
        "model.save('gdrive/MyDrive/Colab Notebooks/pokemon_tracks/ow_music_trained_model_80_epochs.h5')"
      ]
    },
    {
      "cell_type": "code",
      "execution_count": null,
      "metadata": {
        "id": "uuzelMxBEy3G",
        "colab": {
          "base_uri": "https://localhost:8080/",
          "height": 1000
        },
        "outputId": "762f77c2-ece5-4ed4-fe07-13888f84e673"
      },
      "outputs": [
        {
          "output_type": "stream",
          "name": "stdout",
          "text": [
            "Epoch 1/100\n",
            "11/11 [==============================] - 6s 369ms/step - loss: 5.2162 - accuracy: 0.0940 - val_loss: 5.0573 - val_accuracy: 0.0866\n",
            "Epoch 2/100\n",
            "11/11 [==============================] - 2s 178ms/step - loss: 4.7469 - accuracy: 0.0981 - val_loss: 4.4112 - val_accuracy: 0.0582\n",
            "Epoch 3/100\n",
            "11/11 [==============================] - 2s 194ms/step - loss: 4.3971 - accuracy: 0.0679 - val_loss: 4.2762 - val_accuracy: 0.0866\n",
            "Epoch 4/100\n",
            "11/11 [==============================] - 2s 197ms/step - loss: 4.3048 - accuracy: 0.0743 - val_loss: 4.2784 - val_accuracy: 0.0866\n",
            "Epoch 5/100\n",
            "11/11 [==============================] - 2s 182ms/step - loss: 4.2921 - accuracy: 0.0810 - val_loss: 4.2611 - val_accuracy: 0.0866\n",
            "Epoch 6/100\n",
            "11/11 [==============================] - 2s 180ms/step - loss: 4.2643 - accuracy: 0.1011 - val_loss: 4.2544 - val_accuracy: 0.0866\n",
            "Epoch 7/100\n",
            "11/11 [==============================] - 2s 195ms/step - loss: 4.2398 - accuracy: 0.0996 - val_loss: 4.1947 - val_accuracy: 0.0866\n",
            "Epoch 8/100\n",
            "11/11 [==============================] - 2s 182ms/step - loss: 4.2962 - accuracy: 0.0896 - val_loss: 4.4382 - val_accuracy: 0.0866\n",
            "Epoch 9/100\n",
            "11/11 [==============================] - 2s 196ms/step - loss: 4.3531 - accuracy: 0.1011 - val_loss: 4.2530 - val_accuracy: 0.0582\n",
            "Epoch 10/100\n",
            "11/11 [==============================] - 2s 199ms/step - loss: 4.2581 - accuracy: 0.0776 - val_loss: 4.2360 - val_accuracy: 0.0866\n",
            "Epoch 11/100\n",
            "11/11 [==============================] - 2s 201ms/step - loss: 4.2127 - accuracy: 0.0978 - val_loss: 4.5846 - val_accuracy: 0.0164\n",
            "Epoch 12/100\n",
            "11/11 [==============================] - 2s 200ms/step - loss: 4.3062 - accuracy: 0.0933 - val_loss: 4.2889 - val_accuracy: 0.0866\n",
            "Epoch 13/100\n",
            "11/11 [==============================] - 2s 199ms/step - loss: 4.2607 - accuracy: 0.1007 - val_loss: 4.2172 - val_accuracy: 0.0866\n",
            "Epoch 14/100\n",
            "11/11 [==============================] - 2s 187ms/step - loss: 4.2290 - accuracy: 0.0858 - val_loss: 4.1277 - val_accuracy: 0.0866\n",
            "Epoch 15/100\n",
            "11/11 [==============================] - 2s 186ms/step - loss: 4.1821 - accuracy: 0.1049 - val_loss: 4.0980 - val_accuracy: 0.0821\n",
            "Epoch 16/100\n",
            "11/11 [==============================] - 2s 188ms/step - loss: 4.1466 - accuracy: 0.0817 - val_loss: 4.3083 - val_accuracy: 0.0866\n",
            "Epoch 17/100\n",
            "11/11 [==============================] - 2s 204ms/step - loss: 4.2823 - accuracy: 0.1011 - val_loss: 4.2733 - val_accuracy: 0.0866\n",
            "Epoch 18/100\n",
            "11/11 [==============================] - 2s 204ms/step - loss: 4.2363 - accuracy: 0.0996 - val_loss: 4.2017 - val_accuracy: 0.0866\n",
            "Epoch 19/100\n",
            "11/11 [==============================] - 2s 190ms/step - loss: 4.2229 - accuracy: 0.0970 - val_loss: 4.2699 - val_accuracy: 0.0970\n",
            "Epoch 20/100\n",
            "11/11 [==============================] - 2s 189ms/step - loss: 4.2431 - accuracy: 0.1015 - val_loss: 4.2180 - val_accuracy: 0.0866\n",
            "Epoch 21/100\n",
            "11/11 [==============================] - 2s 191ms/step - loss: 4.0965 - accuracy: 0.0937 - val_loss: 4.6620 - val_accuracy: 0.0179\n",
            "Epoch 22/100\n",
            "11/11 [==============================] - 2s 192ms/step - loss: 4.3081 - accuracy: 0.0966 - val_loss: 4.2137 - val_accuracy: 0.0866\n",
            "Epoch 23/100\n",
            "11/11 [==============================] - 2s 207ms/step - loss: 4.1209 - accuracy: 0.1041 - val_loss: 4.3001 - val_accuracy: 0.0672\n",
            "Epoch 24/100\n",
            "11/11 [==============================] - 2s 219ms/step - loss: 4.3013 - accuracy: 0.0963 - val_loss: 4.1824 - val_accuracy: 0.0866\n",
            "Epoch 25/100\n",
            "11/11 [==============================] - 2s 216ms/step - loss: 4.1384 - accuracy: 0.1011 - val_loss: 4.2531 - val_accuracy: 0.0940\n",
            "Epoch 26/100\n",
            "11/11 [==============================] - 2s 208ms/step - loss: 4.1908 - accuracy: 0.1004 - val_loss: 4.0705 - val_accuracy: 0.0866\n",
            "Epoch 27/100\n",
            "11/11 [==============================] - 2s 192ms/step - loss: 4.1135 - accuracy: 0.0940 - val_loss: 4.1310 - val_accuracy: 0.0866\n",
            "Epoch 28/100\n",
            "11/11 [==============================] - 2s 192ms/step - loss: 4.0912 - accuracy: 0.0914 - val_loss: 4.0115 - val_accuracy: 0.0896\n",
            "Epoch 29/100\n",
            "11/11 [==============================] - 2s 208ms/step - loss: 3.9383 - accuracy: 0.0989 - val_loss: 3.8903 - val_accuracy: 0.0925\n",
            "Epoch 30/100\n",
            "11/11 [==============================] - 2s 198ms/step - loss: 3.8575 - accuracy: 0.0993 - val_loss: 3.8826 - val_accuracy: 0.0985\n",
            "Epoch 31/100\n",
            "11/11 [==============================] - 2s 213ms/step - loss: 3.9293 - accuracy: 0.0959 - val_loss: 3.9576 - val_accuracy: 0.0955\n",
            "Epoch 32/100\n",
            "11/11 [==============================] - 2s 210ms/step - loss: 3.9081 - accuracy: 0.0993 - val_loss: 3.9165 - val_accuracy: 0.1090\n",
            "Epoch 33/100\n",
            "11/11 [==============================] - 2s 209ms/step - loss: 3.9861 - accuracy: 0.0918 - val_loss: 4.6906 - val_accuracy: 0.0821\n",
            "Epoch 34/100\n",
            "11/11 [==============================] - 2s 211ms/step - loss: 4.1664 - accuracy: 0.0896 - val_loss: 3.9702 - val_accuracy: 0.0925\n",
            "Epoch 35/100\n",
            "11/11 [==============================] - 2s 198ms/step - loss: 4.0400 - accuracy: 0.0996 - val_loss: 4.0551 - val_accuracy: 0.0866\n",
            "Epoch 36/100\n",
            "11/11 [==============================] - 2s 211ms/step - loss: 3.9641 - accuracy: 0.0858 - val_loss: 3.8830 - val_accuracy: 0.0925\n",
            "Epoch 37/100\n",
            "11/11 [==============================] - 2s 215ms/step - loss: 3.8425 - accuracy: 0.1086 - val_loss: 3.8357 - val_accuracy: 0.0806\n",
            "Epoch 38/100\n",
            "11/11 [==============================] - 2s 214ms/step - loss: 3.8050 - accuracy: 0.0896 - val_loss: 3.8560 - val_accuracy: 0.0955\n",
            "Epoch 39/100\n",
            "11/11 [==============================] - 2s 200ms/step - loss: 3.7729 - accuracy: 0.0996 - val_loss: 3.7706 - val_accuracy: 0.1224\n",
            "Epoch 40/100\n",
            "11/11 [==============================] - 2s 199ms/step - loss: 3.6907 - accuracy: 0.1325 - val_loss: 3.7102 - val_accuracy: 0.1284\n",
            "Epoch 41/100\n",
            "11/11 [==============================] - 2s 202ms/step - loss: 3.6538 - accuracy: 0.1276 - val_loss: 3.7283 - val_accuracy: 0.1493\n",
            "Epoch 42/100\n",
            "11/11 [==============================] - 2s 203ms/step - loss: 3.6498 - accuracy: 0.1373 - val_loss: 3.7049 - val_accuracy: 0.1030\n",
            "Epoch 43/100\n",
            "11/11 [==============================] - 2s 218ms/step - loss: 3.5950 - accuracy: 0.1354 - val_loss: 3.6424 - val_accuracy: 0.1299\n",
            "Epoch 44/100\n",
            "11/11 [==============================] - 2s 205ms/step - loss: 3.5707 - accuracy: 0.1474 - val_loss: 3.6371 - val_accuracy: 0.1299\n",
            "Epoch 45/100\n",
            "11/11 [==============================] - 2s 217ms/step - loss: 3.7232 - accuracy: 0.1205 - val_loss: 3.6665 - val_accuracy: 0.1164\n",
            "Epoch 46/100\n",
            "11/11 [==============================] - 2s 205ms/step - loss: 3.5864 - accuracy: 0.1328 - val_loss: 3.6228 - val_accuracy: 0.1388\n",
            "Epoch 47/100\n",
            "11/11 [==============================] - 2s 206ms/step - loss: 3.5104 - accuracy: 0.1474 - val_loss: 3.5787 - val_accuracy: 0.1418\n",
            "Epoch 48/100\n",
            "11/11 [==============================] - 2s 219ms/step - loss: 3.4623 - accuracy: 0.1493 - val_loss: 3.5852 - val_accuracy: 0.1299\n",
            "Epoch 49/100\n",
            "11/11 [==============================] - 2s 222ms/step - loss: 3.4379 - accuracy: 0.1478 - val_loss: 3.5672 - val_accuracy: 0.1373\n",
            "Epoch 50/100\n",
            "11/11 [==============================] - 2s 205ms/step - loss: 3.3922 - accuracy: 0.1616 - val_loss: 5.0433 - val_accuracy: 0.0507\n",
            "Epoch 51/100\n",
            "11/11 [==============================] - 2s 204ms/step - loss: 3.8829 - accuracy: 0.0978 - val_loss: 3.8529 - val_accuracy: 0.1075\n",
            "Epoch 52/100\n",
            "11/11 [==============================] - 2s 204ms/step - loss: 3.9927 - accuracy: 0.1022 - val_loss: 3.9145 - val_accuracy: 0.0672\n",
            "Epoch 53/100\n",
            "11/11 [==============================] - 2s 217ms/step - loss: 4.1828 - accuracy: 0.0918 - val_loss: 4.0565 - val_accuracy: 0.0896\n",
            "Epoch 54/100\n",
            "11/11 [==============================] - 2s 204ms/step - loss: 3.9894 - accuracy: 0.0940 - val_loss: 3.9296 - val_accuracy: 0.0940\n",
            "Epoch 55/100\n",
            "11/11 [==============================] - 2s 220ms/step - loss: 3.9039 - accuracy: 0.0922 - val_loss: 4.0023 - val_accuracy: 0.0672\n",
            "Epoch 56/100\n",
            "11/11 [==============================] - 2s 203ms/step - loss: 4.1645 - accuracy: 0.0974 - val_loss: 4.1022 - val_accuracy: 0.0881\n",
            "Epoch 57/100\n",
            "11/11 [==============================] - 2s 206ms/step - loss: 3.9059 - accuracy: 0.0840 - val_loss: 3.8966 - val_accuracy: 0.0910\n",
            "Epoch 58/100\n",
            "11/11 [==============================] - 2s 204ms/step - loss: 3.7617 - accuracy: 0.0963 - val_loss: 3.7439 - val_accuracy: 0.1060\n",
            "Epoch 59/100\n",
            "11/11 [==============================] - 2s 203ms/step - loss: 3.7647 - accuracy: 0.0974 - val_loss: 3.8449 - val_accuracy: 0.0955\n",
            "Epoch 60/100\n",
            "11/11 [==============================] - 2s 203ms/step - loss: 3.7096 - accuracy: 0.1172 - val_loss: 3.7327 - val_accuracy: 0.1149\n",
            "Epoch 61/100\n",
            "11/11 [==============================] - 2s 217ms/step - loss: 3.5802 - accuracy: 0.1209 - val_loss: 3.6619 - val_accuracy: 0.1299\n",
            "Epoch 62/100\n",
            "11/11 [==============================] - 2s 203ms/step - loss: 3.4939 - accuracy: 0.1481 - val_loss: 3.6119 - val_accuracy: 0.1373\n",
            "Epoch 63/100\n",
            "11/11 [==============================] - 2s 202ms/step - loss: 3.4332 - accuracy: 0.1530 - val_loss: 3.6066 - val_accuracy: 0.1299\n",
            "Epoch 64/100\n",
            "11/11 [==============================] - 2s 202ms/step - loss: 3.4134 - accuracy: 0.1437 - val_loss: 3.5654 - val_accuracy: 0.1388\n",
            "Epoch 65/100\n",
            "11/11 [==============================] - 2s 214ms/step - loss: 3.3370 - accuracy: 0.1545 - val_loss: 3.5966 - val_accuracy: 0.1269\n",
            "Epoch 66/100\n",
            "11/11 [==============================] - 2s 215ms/step - loss: 3.2772 - accuracy: 0.1687 - val_loss: 3.4596 - val_accuracy: 0.1493\n",
            "Epoch 67/100\n",
            "11/11 [==============================] - 2s 217ms/step - loss: 3.1901 - accuracy: 0.1832 - val_loss: 3.4453 - val_accuracy: 0.1522\n",
            "Epoch 68/100\n",
            "11/11 [==============================] - 2s 205ms/step - loss: 3.0807 - accuracy: 0.1978 - val_loss: 3.3111 - val_accuracy: 0.1881\n",
            "Epoch 69/100\n",
            "11/11 [==============================] - 2s 202ms/step - loss: 3.1144 - accuracy: 0.1843 - val_loss: 3.3701 - val_accuracy: 0.1701\n",
            "Epoch 70/100\n",
            "11/11 [==============================] - 2s 215ms/step - loss: 3.0665 - accuracy: 0.1922 - val_loss: 3.3813 - val_accuracy: 0.1567\n",
            "Epoch 71/100\n",
            "11/11 [==============================] - 2s 203ms/step - loss: 3.0054 - accuracy: 0.2049 - val_loss: 3.5512 - val_accuracy: 0.1582\n",
            "Epoch 72/100\n",
            "11/11 [==============================] - 2s 201ms/step - loss: 3.0867 - accuracy: 0.1873 - val_loss: 3.4188 - val_accuracy: 0.1642\n",
            "Epoch 73/100\n",
            "11/11 [==============================] - 2s 218ms/step - loss: 3.0927 - accuracy: 0.1937 - val_loss: 3.4378 - val_accuracy: 0.1642\n",
            "Epoch 74/100\n",
            "11/11 [==============================] - 2s 204ms/step - loss: 2.9837 - accuracy: 0.2116 - val_loss: 3.2741 - val_accuracy: 0.1896\n",
            "Epoch 75/100\n",
            "11/11 [==============================] - 2s 213ms/step - loss: 2.9696 - accuracy: 0.2078 - val_loss: 3.2677 - val_accuracy: 0.2090\n",
            "Epoch 76/100\n",
            "11/11 [==============================] - 2s 200ms/step - loss: 2.8297 - accuracy: 0.2354 - val_loss: 3.2013 - val_accuracy: 0.2075\n",
            "Epoch 77/100\n",
            "11/11 [==============================] - 2s 202ms/step - loss: 2.6406 - accuracy: 0.2683 - val_loss: 3.1183 - val_accuracy: 0.2224\n",
            "Epoch 78/100\n",
            "11/11 [==============================] - 2s 202ms/step - loss: 2.5099 - accuracy: 0.2840 - val_loss: 3.0324 - val_accuracy: 0.2433\n",
            "Epoch 79/100\n",
            "11/11 [==============================] - 2s 204ms/step - loss: 2.6082 - accuracy: 0.2698 - val_loss: 3.2503 - val_accuracy: 0.1761\n",
            "Epoch 80/100\n",
            "11/11 [==============================] - 2s 217ms/step - loss: 2.5117 - accuracy: 0.2731 - val_loss: 3.0575 - val_accuracy: 0.2358\n",
            "Epoch 81/100\n",
            "11/11 [==============================] - 2s 199ms/step - loss: 2.3294 - accuracy: 0.3082 - val_loss: 3.0022 - val_accuracy: 0.2388\n",
            "Epoch 82/100\n",
            "11/11 [==============================] - 2s 215ms/step - loss: 2.1343 - accuracy: 0.3560 - val_loss: 3.0140 - val_accuracy: 0.2761\n",
            "Epoch 83/100\n",
            "11/11 [==============================] - 2s 201ms/step - loss: 2.0764 - accuracy: 0.3657 - val_loss: 3.0226 - val_accuracy: 0.2343\n",
            "Epoch 84/100\n",
            "11/11 [==============================] - 2s 201ms/step - loss: 2.2197 - accuracy: 0.3511 - val_loss: 3.1157 - val_accuracy: 0.2134\n",
            "Epoch 85/100\n",
            "11/11 [==============================] - 2s 217ms/step - loss: 2.1010 - accuracy: 0.3597 - val_loss: 2.8663 - val_accuracy: 0.2970\n",
            "Epoch 86/100\n",
            "11/11 [==============================] - 2s 205ms/step - loss: 1.8250 - accuracy: 0.4250 - val_loss: 2.8135 - val_accuracy: 0.3194\n",
            "Epoch 87/100\n",
            "11/11 [==============================] - 2s 202ms/step - loss: 1.6987 - accuracy: 0.4623 - val_loss: 2.6793 - val_accuracy: 0.3552\n",
            "Epoch 88/100\n",
            "11/11 [==============================] - 2s 201ms/step - loss: 1.5973 - accuracy: 0.4948 - val_loss: 2.9515 - val_accuracy: 0.2910\n",
            "Epoch 89/100\n",
            "11/11 [==============================] - 2s 202ms/step - loss: 1.6347 - accuracy: 0.4694 - val_loss: 2.6143 - val_accuracy: 0.3597\n",
            "Epoch 90/100\n",
            "11/11 [==============================] - 2s 201ms/step - loss: 1.4293 - accuracy: 0.5295 - val_loss: 2.5459 - val_accuracy: 0.4015\n",
            "Epoch 91/100\n",
            "11/11 [==============================] - 2s 203ms/step - loss: 1.3564 - accuracy: 0.5511 - val_loss: 2.6001 - val_accuracy: 0.4119\n",
            "Epoch 92/100\n",
            "11/11 [==============================] - 2s 205ms/step - loss: 1.5495 - accuracy: 0.5496 - val_loss: 4.4451 - val_accuracy: 0.1313\n",
            "Epoch 93/100\n",
            "11/11 [==============================] - 2s 203ms/step - loss: 2.7736 - accuracy: 0.2701 - val_loss: 3.4391 - val_accuracy: 0.1910\n",
            "Epoch 94/100\n",
            "11/11 [==============================] - 2s 203ms/step - loss: 2.2191 - accuracy: 0.3291 - val_loss: 2.9655 - val_accuracy: 0.2612\n",
            "Epoch 95/100\n",
            "11/11 [==============================] - 2s 202ms/step - loss: 1.8408 - accuracy: 0.4287 - val_loss: 2.8749 - val_accuracy: 0.2821\n",
            "Epoch 96/100\n",
            "11/11 [==============================] - 2s 202ms/step - loss: 1.5922 - accuracy: 0.4840 - val_loss: 2.7279 - val_accuracy: 0.3463\n",
            "Epoch 97/100\n",
            "11/11 [==============================] - 2s 203ms/step - loss: 1.3853 - accuracy: 0.5522 - val_loss: 2.6866 - val_accuracy: 0.4015\n",
            "Epoch 98/100\n",
            "11/11 [==============================] - 2s 219ms/step - loss: 1.2254 - accuracy: 0.6015 - val_loss: 2.7525 - val_accuracy: 0.4358\n",
            "Epoch 99/100\n",
            "11/11 [==============================] - 2s 204ms/step - loss: 1.0989 - accuracy: 0.6444 - val_loss: 2.6183 - val_accuracy: 0.4612\n",
            "Epoch 100/100\n",
            "11/11 [==============================] - 2s 205ms/step - loss: 1.0278 - accuracy: 0.6847 - val_loss: 2.7830 - val_accuracy: 0.4388\n"
          ]
        },
        {
          "output_type": "display_data",
          "data": {
            "text/plain": [
              "<Figure size 640x480 with 1 Axes>"
            ],
            "image/png": "[encoded data removed]"
          },
          "metadata": {
            "image/png": {
              "width": 554,
              "height": 454
            }
          }
        }
      ],
      "source": [
        "# CHECK FOR OVERFITTING\n",
        "history2 = model.fit(X_train, y_train, batch_size=256, epochs=100, validation_split=0.2)\n",
        "plt.plot(history2.history['loss'])\n",
        "plt.plot(history2.history['val_loss'])\n",
        "plt.title('model train vs validation loss')\n",
        "plt.ylabel('loss')\n",
        "plt.xlabel('epoch')\n",
        "plt.legend(['train', 'validation'], loc='upper right')\n",
        "plt.show()"
      ]
    },
    {
      "cell_type": "code",
      "execution_count": null,
      "metadata": {
        "id": "Ou1XutW5OxmV"
      },
      "outputs": [],
      "source": [
        "# GENERATE SONG\n",
        "import pdb\n",
        "def generate_notes(model, corpus, network_input, n_vocab):\n",
        "    \"\"\" Generate notes from the neural network based on a sequence of notes \"\"\"\n",
        "    # pick a random sequence from the input as a starting point for the prediction\n",
        "    pitchnames = sorted(set(item for item in corpus))\n",
        "\n",
        "    start = np.random.randint(0, len(network_input)-1)\n",
        "\n",
        "    int_to_note = dict((number, note) for number, note in enumerate(pitchnames))\n",
        "\n",
        "    pattern = network_input[start]\n",
        "    prediction_output = []\n",
        "\n",
        "    # generate notes\n",
        "    for note_index in range(200):\n",
        "        prediction_input = np.reshape(pattern, (1, len(pattern), 1))\n",
        "        prediction_input = prediction_input / float(n_vocab)\n",
        "\n",
        "        prediction = model.predict(prediction_input, verbose=0)\n",
        "\n",
        "        index = np.argmax(prediction)\n",
        "        result = int_to_note[index]\n",
        "        prediction_output.append(result)\n",
        "\n",
        "        pattern = np.append(pattern,index)\n",
        "        pattern = pattern[1:len(pattern)]\n",
        "\n",
        "    return prediction_output\n",
        "\n",
        "def create_midi(prediction_output, filename):\n",
        "    \"\"\" convert the output from the prediction to notes and create a midi file\n",
        "        from the notes \"\"\"\n",
        "    offset = 0\n",
        "    output_notes = []\n",
        "\n",
        "    # create note and chord objects based on the values generated by the model\n",
        "    for pattern in prediction_output:\n",
        "        # pattern is a chord\n",
        "\n",
        "        if ('.' in pattern) or pattern.isdigit():\n",
        "            notes_in_chord = pattern.split('.')\n",
        "            notes = []\n",
        "            for current_note in notes_in_chord:\n",
        "                new_note = note.Note(int(current_note))\n",
        "                new_note.storedInstrument = instrument.Piano()\n",
        "                notes.append(new_note)\n",
        "            new_chord = chord.Chord(notes)\n",
        "            new_chord.offset = offset\n",
        "            output_notes.append(new_chord)\n",
        "        # pattern is a note\n",
        "        else:\n",
        "            new_note = note.Note(pattern)\n",
        "            new_note.offset = offset\n",
        "            new_note.storedInstrument = instrument.Piano()\n",
        "            output_notes.append(new_note)\n",
        "        # increase offset each iteration so that notes do not stack\n",
        "        offset += 0.5\n",
        "\n",
        "    midi_stream = stream.Stream(output_notes)\n",
        "    midi_stream.write('midi','song_slow.mid')\n",
        "\n",
        "    fctr = 1 # scale (in this case stretch) the overall tempo by this factor\n",
        "    og_midi = music21.converter.parse('song_slow.mid')\n",
        "    sped_midi = og_midi.scaleOffsets(fctr).scaleDurations(fctr)\n",
        "\n",
        "    sped_midi.write('midi', fp='{}.mid'.format(filename))\n",
        "\n",
        "for i in range(0,30):\n",
        "    prediction_output = generate_notes(model, Corpus, net_input, L_symb)\n",
        "    create_midi(prediction_output, ow_output_path + 'pokemon_midi' + str(i))"
      ]
    },
    {
      "cell_type": "code",
      "execution_count": null,
      "metadata": {
        "id": "KNsg9dOnAo_k"
      },
      "outputs": [],
      "source": [
        "def open_midi(midi_path, remove_drums):\n",
        "    # There is an one-line method to read MIDIs\n",
        "    # but to remove the drums we need to manipulate some\n",
        "    # low level MIDI events.\n",
        "    mf = midi.MidiFile()\n",
        "    mf.open(midi_path)\n",
        "    mf.read()\n",
        "    mf.close()\n",
        "    if (remove_drums):\n",
        "        for i in range(len(mf.tracks)):\n",
        "            mf.tracks[i].events = [ev for ev in mf.tracks[i].events if ev.channel != 10]\n",
        "\n",
        "    return midi.translate.midiFileToStream(mf)\n",
        "\n",
        "original_midi = open_midi(\"gdrive/MyDrive/Colab Notebooks/pokemon_tracks/pkmn_battle_ost/Pokemon RubySapphireEmerald - Wild Pokemon Battle.mid\", True)\n",
        "\n",
        "def extract_notes_single(midi_part):\n",
        "    parent_element = []\n",
        "    ret = []\n",
        "    for nt in midi_part.flat.notes:\n",
        "        if isinstance(nt, note.Note):\n",
        "            ret.append(max(0.0, nt.pitch.ps))\n",
        "            parent_element.append(nt)\n",
        "        elif isinstance(nt, chord.Chord):\n",
        "            for pitch in nt.pitches:\n",
        "                ret.append(max(0.0, pitch.ps))\n",
        "                parent_element.append(nt)\n",
        "\n",
        "    return ret, parent_element\n",
        "\n",
        "def print_parts_countour(midi):\n",
        "    fig = plt.figure(figsize=(12, 5))\n",
        "    ax = fig.add_subplot(1, 1, 1)\n",
        "    minPitch = pitch.Pitch('C10').ps\n",
        "    maxPitch = 0\n",
        "    xMax = 0\n",
        "\n",
        "    # Drawing notes.\n",
        "    for i in range(len(midi.parts)):\n",
        "        top = midi.parts[i].flat.notes\n",
        "        y, parent_element = extract_notes_single(top)\n",
        "        if (len(y) < 1): continue\n",
        "\n",
        "        x = [n.offset for n in parent_element]\n",
        "        ax.scatter(x, y, alpha=0.6, s=7)\n",
        "\n",
        "        aux = min(y)\n",
        "        if (aux < minPitch): minPitch = aux\n",
        "\n",
        "        aux = max(y)\n",
        "        if (aux > maxPitch): maxPitch = aux\n",
        "\n",
        "        aux = max(x)\n",
        "        if (aux > xMax): xMax = aux\n",
        "\n",
        "    for i in range(1, 10):\n",
        "        linePitch = pitch.Pitch('C{0}'.format(i)).ps\n",
        "        if (linePitch > minPitch and linePitch < maxPitch):\n",
        "            ax.add_line(mlines.Line2D([0, xMax], [linePitch, linePitch], color='red', alpha=0.1))\n",
        "\n",
        "    plt.ylabel(\"Note index (each octave has 12 notes)\")\n",
        "    plt.xlabel(\"Number of quarter notes (beats)\")\n",
        "    plt.title('Representation of notes during the melody')\n",
        "    plt.show()\n",
        "\n",
        "# Focusing only on 6 first measures to make it easier to understand.\n",
        "print_parts_countour(original_midi.measures(0, 20))"
      ]
    },
    {
      "cell_type": "code",
      "source": [
        "pokemon_midi = pretty_midi.PrettyMIDI(\"gdrive/MyDrive/Colab Notebooks/pokemon_tracks/pkmn_battle_ost/Pokemon RubySapphireEmerald - Wild Pokemon Battle.mid\")\n",
        "transition_matrix = pokemon_midi.get_pitch_class_transition_matrix()\n",
        "plt.figure(figsize=(8,8))\n",
        "plt.matshow(transition_matrix, fignum = 1)\n",
        "plt.colorbar()\n",
        "plt.xticks(range(12),\n",
        "           ['C', 'C#', 'D', 'D#', 'E', 'F', 'F#', 'G', 'G#', 'A', 'Bb', 'B'],)\n",
        "plt.yticks(range(12),\n",
        "           ['C', 'C#', 'D', 'D#', 'E', 'F', 'F#', 'G', 'G#', 'A', 'Bb', 'B'],)"
      ],
      "metadata": {
        "id": "F2CvxIqAtTFG"
      },
      "execution_count": null,
      "outputs": []
    },
    {
      "cell_type": "code",
      "source": [
        "piano_roll = pokemon_midi.instruments[0].get_piano_roll(fs=100)\n",
        "sum_notes = np.sum(piano_roll, axis=1)\n",
        "used_pitch = np.sum(sum_notes > 0)\n",
        "print(\"The number of different pitches: \")\n",
        "print(used_pitch)"
      ],
      "metadata": {
        "colab": {
          "base_uri": "https://localhost:8080/"
        },
        "id": "o0E7Gq0U2G67",
        "outputId": "d100aba9-b610-4d13-d9f4-eec4ba1c28ea"
      },
      "execution_count": null,
      "outputs": [
        {
          "output_type": "stream",
          "name": "stdout",
          "text": [
            "The number of different pitches: \n",
            "24\n"
          ]
        }
      ]
    },
    {
      "cell_type": "code",
      "source": [
        "piano_roll = pokemon_midi.instruments[0].get_piano_roll(fs=100)\n",
        "pitch_index = np.where(np.sum(piano_roll, axis=1) > 0)\n",
        "p_range = np.max(pitch_index) - np.min(pitch_index)\n",
        "\n",
        "print(\"Pitch range: \")\n",
        "print(p_range)"
      ],
      "metadata": {
        "colab": {
          "base_uri": "https://localhost:8080/"
        },
        "id": "QWDIQ5192_7J",
        "outputId": "18fb2b2d-63a8-4245-8da2-af574e1a968d"
      },
      "execution_count": null,
      "outputs": [
        {
          "output_type": "stream",
          "name": "stdout",
          "text": [
            "Pitch range: \n",
            "56\n"
          ]
        }
      ]
    },
    {
      "cell_type": "code",
      "execution_count": null,
      "metadata": {
        "colab": {
          "base_uri": "https://localhost:8080/"
        },
        "id": "gVxqlzylKZvW",
        "outputId": "f7b33a24-a6a9-4314-bd55-c279691a41e3"
      },
      "outputs": [
        {
          "name": "stdout",
          "output_type": "stream",
          "text": [
            "List of instruments found on MIDI file:\n",
            "Piano\n",
            "Piano\n"
          ]
        }
      ],
      "source": [
        "def list_instruments(midi):\n",
        "    partStream = midi.parts.stream()\n",
        "    print(\"List of instruments found on MIDI file:\")\n",
        "    for p in partStream:\n",
        "        aux = p\n",
        "        print (p.partName)\n",
        "\n",
        "list_instruments(original_midi)"
      ]
    },
    {
      "cell_type": "code",
      "execution_count": null,
      "metadata": {
        "id": "MNxCQbOkEVsY"
      },
      "outputs": [],
      "source": [
        "def open_midi(midi_path, remove_drums):\n",
        "    # There is an one-line method to read MIDIs\n",
        "    # but to remove the drums we need to manipulate some\n",
        "    # low level MIDI events.\n",
        "    mf = midi.MidiFile()\n",
        "    mf.open(midi_path)\n",
        "    mf.read()\n",
        "    mf.close()\n",
        "    if (remove_drums):\n",
        "        for i in range(len(mf.tracks)):\n",
        "            mf.tracks[i].events = [ev for ev in mf.tracks[i].events if ev.channel != 10]\n",
        "\n",
        "    return midi.translate.midiFileToStream(mf)\n",
        "\n",
        "generated_midi = open_midi(\"gdrive/MyDrive/Colab Notebooks/pokemon_tracks/battle_output/good_results/Copy of pokemon_midi22.mid\", True)\n",
        "\n",
        "def extract_notes_single(midi_part):\n",
        "    parent_element = []\n",
        "    ret = []\n",
        "    for nt in midi_part.flat.notes:\n",
        "        if isinstance(nt, note.Note):\n",
        "            ret.append(max(0.0, nt.pitch.ps))\n",
        "            parent_element.append(nt)\n",
        "        elif isinstance(nt, chord.Chord):\n",
        "            for pitch in nt.pitches:\n",
        "                ret.append(max(0.0, pitch.ps))\n",
        "                parent_element.append(nt)\n",
        "\n",
        "    return ret, parent_element\n",
        "\n",
        "def print_parts_countour(midi):\n",
        "    fig = plt.figure(figsize=(12, 5))\n",
        "    ax = fig.add_subplot(1, 1, 1)\n",
        "    minPitch = pitch.Pitch('C10').ps\n",
        "    maxPitch = 0\n",
        "    xMax = 0\n",
        "\n",
        "    # Drawing notes.\n",
        "    for i in range(len(midi.parts)):\n",
        "        top = midi.parts[i].flat.notes\n",
        "        y, parent_element = extract_notes_single(top)\n",
        "        if (len(y) < 1): continue\n",
        "\n",
        "        x = [n.offset for n in parent_element]\n",
        "        ax.scatter(x, y, alpha=0.6, s=7)\n",
        "\n",
        "        aux = min(y)\n",
        "        if (aux < minPitch): minPitch = aux\n",
        "\n",
        "        aux = max(y)\n",
        "        if (aux > maxPitch): maxPitch = aux\n",
        "\n",
        "        aux = max(x)\n",
        "        if (aux > xMax): xMax = aux\n",
        "\n",
        "    for i in range(1, 10):\n",
        "        linePitch = pitch.Pitch('C{0}'.format(i)).ps\n",
        "        if (linePitch > minPitch and linePitch < maxPitch):\n",
        "            ax.add_line(mlines.Line2D([0, xMax], [linePitch, linePitch], color='red', alpha=0.1))\n",
        "\n",
        "    plt.ylabel(\"Note index (each octave has 12 notes)\")\n",
        "    plt.xlabel(\"Number of quarter notes (beats)\")\n",
        "    plt.title('Representation of notes during the melody')\n",
        "    plt.show()\n",
        "\n",
        "# Focusing only on 6 first measures to make it easier to understand.\n",
        "print_parts_countour(generated_midi.measures(0, 20))\n",
        "\n",
        "# We can take a look on the pitch histogram to see which notes are more used.\n",
        "print(\"MOST USED NOTES\")\n",
        "generated_midi.plot('histogram', 'pitchClass', 'count')"
      ]
    },
    {
      "cell_type": "code",
      "source": [
        "pokemon_midi = pretty_midi.PrettyMIDI(\"gdrive/MyDrive/Colab Notebooks/pokemon_tracks/battle_output/good_results/Copy of pokemon_midi22.mid\")\n",
        "transition_matrix = pokemon_midi.get_pitch_class_transition_matrix()\n",
        "plt.figure(figsize=(8,8))\n",
        "plt.matshow(transition_matrix, fignum = 1)\n",
        "plt.colorbar()\n",
        "plt.xticks(range(12),\n",
        "           ['C', 'C#', 'D', 'D#', 'E', 'F', 'F#', 'G', 'G#', 'A', 'Bb', 'B'],);\n",
        "plt.yticks(range(12),\n",
        "           ['C', 'C#', 'D', 'D#', 'E', 'F', 'F#', 'G', 'G#', 'A', 'Bb', 'B'],);"
      ],
      "metadata": {
        "id": "oUeVRumwz8h1"
      },
      "execution_count": null,
      "outputs": []
    },
    {
      "cell_type": "code",
      "execution_count": null,
      "metadata": {
        "id": "RZZ3D2tvLIza"
      },
      "outputs": [],
      "source": [
        "omrGTP = omr.evaluators.OmrGroundTruthPair(omr=original_midi, ground=generated_midi)\n",
        "differences = omrGTP.getDifferences()\n",
        "differences"
      ]
    },
    {
      "cell_type": "code",
      "execution_count": null,
      "metadata": {
        "id": "jTqZBttN4Lfc"
      },
      "outputs": [],
      "source": [
        "!pip list"
      ]
    },
    {
      "cell_type": "code",
      "execution_count": null,
      "metadata": {
        "id": "IjUYBfGv9MzY"
      },
      "outputs": [],
      "source": [
        "pip install matplotlib==2.0.0"
      ]
    },
    {
      "cell_type": "code",
      "execution_count": null,
      "metadata": {
        "id": "WSFKQ6Ht8Fj0"
      },
      "outputs": [],
      "source": [
        "import pretty_midi\n",
        "import numpy as np\n",
        "import joblib\n",
        "import glob\n",
        "import matplotlib.pyplot as plt\n",
        "%matplotlib inline\n",
        "import seaborn as sns\n",
        "sns.set_style('white')\n",
        "sns.set_context('notebook', font_scale=1.5)\n",
        "import matplotlib.gridspec\n",
        "import collections\n",
        "import os\n",
        "# plotting.py contains utility functions for making nice histogram plots\n",
        "import ploting"
      ]
    },
    {
      "cell_type": "code",
      "execution_count": null,
      "metadata": {
        "id": "h183atQX2kqj"
      },
      "outputs": [],
      "source": [
        "def compute_statistics(midi_file):\n",
        "    # Some MIDI files will raise Exceptions on loading, if they are invalid.\n",
        "    # We just skip those.\n",
        "    try:\n",
        "        pm = pretty_midi.PrettyMIDI(midi_file)\n",
        "        # Extract informative events from the MIDI file\n",
        "        return {'n_instruments': len(pm.instruments),\n",
        "                'program_numbers': [i.program for i in pm.instruments if not i.is_drum],\n",
        "                'key_numbers': [k.key_number for k in pm.key_signature_changes],\n",
        "                'tempos': list(pm.get_tempo_changes()[1]),\n",
        "                'time_signature_changes': pm.time_signature_changes,\n",
        "                'end_time': pm.get_end_time(),\n",
        "                'lyrics': [l.text for l in pm.lyrics]}\n",
        "    except Exception as e:\n",
        "        pass"
      ]
    },
    {
      "cell_type": "code",
      "execution_count": null,
      "metadata": {
        "id": "6tmcXE-82vhF"
      },
      "outputs": [],
      "source": [
        "statistics = joblib.Parallel(n_jobs=10, verbose=0)(\n",
        "    joblib.delayed(compute_statistics)(midi_file)\n",
        "    for midi_file in glob.glob(battle_tracks_path))\n",
        "# When an error occurred, None will be returned; filter those out.\n",
        "statistics = [s for s in statistics if s is not None]"
      ]
    },
    {
      "cell_type": "code",
      "source": [
        "ploting.plot_hist([len(s['tempos']) for s in statistics], [0,1,2,3,4,5,6,7,8,9,10,11,30,100,1000],\n",
        "                   'Number of tempo changes', 'Nr. midi files',1)\n",
        "plt.xticks(np.arange(13)+1, ['1','2','3','4','5','6','7','8','9','10','11 - 30', '31 - 100', '101+'],\n",
        "           rotation=45, ha='right');"
      ],
      "metadata": {
        "id": "clzf4KLIWog_"
      },
      "execution_count": null,
      "outputs": []
    },
    {
      "cell_type": "code",
      "execution_count": null,
      "metadata": {
        "id": "s3aIydan3AXj"
      },
      "outputs": [],
      "source": [
        "ploting.plot_hist([len(s['key_numbers']) for s in statistics], range(12),\n",
        "                   'Number of key changes', 'Nr. midi files', 1)\n",
        "plt.xticks(np.arange(-0.5, 10.5, 1), ['0','1','2','3','4','5','6','7','8','9','10+']);"
      ]
    },
    {
      "cell_type": "code",
      "source": [
        "ploting.plot_hist([i for s in statistics for i in s['key_numbers']], range(25),\n",
        "                   'Key', 'Occurrences', 1)\n",
        "plt.xticks([-0.5, 1.5, 3.5, 4.5, 6.5, 8.5, 10.5, 11.5, 13.5, 15.5, 16.5, 18.5, 20.5, 22.5],\n",
        "           ['C', 'D', 'E', 'F', 'G', 'A', 'B', 'c', 'd', 'e', 'f', 'g', 'a', 'b']);"
      ],
      "metadata": {
        "id": "EP7lZKzDWHNC"
      },
      "execution_count": null,
      "outputs": []
    },
    {
      "cell_type": "code",
      "source": [
        "statistics = joblib.Parallel(n_jobs=10, verbose=1)(\n",
        "    joblib.delayed(compute_statistics)(midi_file)\n",
        "    for midi_file in glob.glob(overworld_tracks_path))\n",
        "# When an error occurred, None will be returned; filter those out.\n",
        "statistics = [s for s in statistics if s is not None]"
      ],
      "metadata": {
        "id": "DDLyRf6MibvA"
      },
      "execution_count": null,
      "outputs": []
    },
    {
      "cell_type": "code",
      "source": [
        "ploting.plot_hist([len(s['tempos']) for s in statistics], [0,1,2,3,4,5,6,7,8,9,10,11,30,100,1000],\n",
        "                   'Number of tempo changes', 'Nr. midi files',1)\n",
        "plt.xticks(np.arange(13)+1, ['1','2','3','4','5','6','7','8','9','10','11 - 30', '31 - 100', '101+'],\n",
        "           rotation=45, ha='right');"
      ],
      "metadata": {
        "id": "QvehA9c_jDW4"
      },
      "execution_count": null,
      "outputs": []
    },
    {
      "cell_type": "code",
      "source": [
        "ploting.plot_hist([len(s['key_numbers']) for s in statistics], range(12),\n",
        "                   'Number of key changes', 'Nr. midi files', 1)\n",
        "plt.xticks(np.arange(-0.5, 10.5, 1), ['0','1','2','3','4','5','6','7','8','9','10+']);"
      ],
      "metadata": {
        "id": "Ps9lcmphjDj7"
      },
      "execution_count": null,
      "outputs": []
    },
    {
      "cell_type": "code",
      "source": [
        "ploting.plot_hist([i for s in statistics for i in s['key_numbers']], range(25),\n",
        "                   'Key', 'Occurrences', 1)\n",
        "plt.xticks([-0.5, 1.5, 3.5, 4.5, 6.5, 8.5, 10.5, 11.5, 13.5, 15.5, 16.5, 18.5, 20.5, 22.5],\n",
        "           ['C', 'D', 'E', 'F', 'G', 'A', 'B', 'c', 'd', 'e', 'f', 'g', 'a', 'b']);"
      ],
      "metadata": {
        "id": "c1QUf6W3jFAP"
      },
      "execution_count": null,
      "outputs": []
    },
    {
      "cell_type": "code",
      "source": [
        "statistics = joblib.Parallel(n_jobs=10, verbose=1)(\n",
        "    joblib.delayed(compute_statistics)(midi_file)\n",
        "    for midi_file in glob.glob(battle_output_tracks_path))\n",
        "# When an error occurred, None will be returned; filter those out.\n",
        "statistics = [s for s in statistics if s is not None]"
      ],
      "metadata": {
        "id": "JhoSNf74jJru"
      },
      "execution_count": null,
      "outputs": []
    },
    {
      "cell_type": "code",
      "source": [
        "ploting.plot_hist([len(s['tempos']) for s in statistics], [0,1,2,3,4,5,6,7,8,9,10,11,30,100,1000],\n",
        "                   'Number of tempo changes', 'Nr. midi files',1)\n",
        "plt.xticks(np.arange(13)+1, ['1','2','3','4','5','6','7','8','9','10','11 - 30', '31 - 100', '101+'],\n",
        "           rotation=45, ha='right');"
      ],
      "metadata": {
        "id": "BYiiq2Gtldt-"
      },
      "execution_count": null,
      "outputs": []
    },
    {
      "cell_type": "code",
      "source": [
        "ploting.plot_hist([len(s['key_numbers']) for s in statistics], range(12),\n",
        "                   'Number of key changes', 'Nr. midi files',1)\n",
        "plt.xticks(np.arange(-0.5, 10.5, 1), ['0','1','2','3','4','5','6','7','8','9','10+']);"
      ],
      "metadata": {
        "id": "_CAtEoV5ld9J"
      },
      "execution_count": null,
      "outputs": []
    },
    {
      "cell_type": "code",
      "source": [
        "ploting.plot_hist([i for s in statistics for i in s['key_numbers']], range(25),\n",
        "                   'Key', 'Occurrences', 1)\n",
        "plt.xticks([-0.5, 1.5, 3.5, 4.5, 6.5, 8.5, 10.5, 11.5, 13.5, 15.5, 16.5, 18.5, 20.5, 22.5],\n",
        "           ['C', 'D', 'E', 'F', 'G', 'A', 'B', 'c', 'd', 'e', 'f', 'g', 'a', 'b']);"
      ],
      "metadata": {
        "id": "LRNPpzB5lfCD"
      },
      "execution_count": null,
      "outputs": []
    },
    {
      "cell_type": "code",
      "source": [],
      "metadata": {
        "id": "QHT3C5PlyQBp"
      },
      "execution_count": null,
      "outputs": []
    }
  ],
  "metadata": {
    "accelerator": "GPU",
    "colab": {
      "provenance": []
    },
    "kernelspec": {
      "display_name": "Python 3",
      "name": "python3"
    },
    "language_info": {
      "name": "python"
    }
  },
  "nbformat": 4,
  "nbformat_minor": 0
}