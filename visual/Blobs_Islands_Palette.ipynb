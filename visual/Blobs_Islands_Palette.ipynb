{
  "cells": [
    {
      "attachments": {},
      "cell_type": "markdown",
      "metadata": {},
      "source": [
        "Remove spurious small islands of noise in an image"
      ]
    },
    {
      "cell_type": "code",
      "execution_count": 1,
      "metadata": {},
      "outputs": [],
      "source": [
        "from PIL import Image\n",
        "import cv2\n",
        "import numpy as np\n",
        "from skimage.morphology import area_opening\n",
        "import sys\n",
        "import os\n",
        "from colorthief import ColorThief\n",
        "import matplotlib.pyplot as plt\n",
        "from matplotlib import pyplot as plt\n",
        "from matplotlib import image as mpimg\n",
        "from glob import glob\n",
        "import pandas as pd\n",
        "import colorsys\n",
        "import math\n",
        "from collections import Counter"
      ]
    },
    {
      "cell_type": "code",
      "execution_count": 254,
      "metadata": {},
      "outputs": [],
      "source": [
        "# Apply Area opening in order to denoise the picture\n",
        "def clean_noise(image_path):\n",
        "    img = cv2.imread(image_path, cv2.IMREAD_UNCHANGED)\n",
        "    img[:,:,3][area_opening(img[:,:,3], 12) == 0] = 0\n",
        "    cv2.imwrite(image_path, img)"
      ]
    },
    {
      "cell_type": "code",
      "execution_count": null,
      "metadata": {},
      "outputs": [],
      "source": [
        "# Load the image\n",
        "img = cv2.imread('test_sprite.png', cv2.IMREAD_UNCHANGED)\n",
        "img[:,:,3][area_opening(img[:,:,3], 12) == 0] = 0\n",
        "cv2.imwrite('output.png', img)\n",
        "# minimum size of image to identify and crop\n",
        "minimumSize = 10\n",
        "\n",
        "# Get colors on 4 corners\n",
        "cornerCoord = [[0, 0], [0, -1], [-1, 0], [-1, -1]]\n",
        "cornerColors = [img[c, r] for c, r in cornerCoord]\n",
        "# select most frequent color in cornerColors\n",
        "color, count = np.unique(cornerColors, return_counts=True, axis=0)\n",
        "mostCommonColor = color[count == max(count)]\n",
        "\n",
        "# it is pressumed that mostCommonColor is the background color\n",
        "\n",
        "# mask is true  where img!=mostCommonColor\n",
        "mask = np.all(img != mostCommonColor, axis=2).astype(np.uint8)\n",
        "\n",
        "# find contours of masked image, and discard nested contours\n",
        "contours, hierarchy = cv2.findContours(\n",
        "    mask, cv2.RETR_EXTERNAL, cv2.CHAIN_APPROX_NONE)\n",
        "\n",
        "# discard contours of isolated pixels with size <10\n",
        "contours = tuple(c for c in contours if c.size > minimumSize)\n",
        "\n",
        "print(len(contours))"
      ]
    },
    {
      "cell_type": "code",
      "execution_count": null,
      "metadata": {},
      "outputs": [],
      "source": [
        "# load image with alpha channel\n",
        "img = cv2.imread('meganium.png', cv2.IMREAD_UNCHANGED)\n",
        "\n",
        "# remove remaining unwanted pixel noise\n",
        "img[:,:,3][area_opening(img[:,:,3], 12) == 0] = 0\n",
        "\n",
        "# extract alpha channel\n",
        "alpha = img[:, :, 3]\n",
        "\n",
        "# threshold alpha channel\n",
        "alpha = cv2.threshold(alpha, 0, 255, cv2.THRESH_BINARY)[1]\n",
        "\n",
        "# save output\n",
        "cv2.imwrite('alpha.png', alpha)\n",
        "\n",
        "# load binary masked image\n",
        "image = cv2.imread(\"alpha.png\", cv2.IMREAD_GRAYSCALE)\n",
        "\n",
        "# separate into rows and columns\n",
        "M, N = image.shape\n",
        "\n",
        "# count every blob\n",
        "n_blobs = 0\n",
        "for i in range(M):\n",
        "    for j in range(N):\n",
        "        if image[i, j] == 255:\n",
        "            n_blobs += 1\n",
        "            cv2.floodFill(image, None, (j, i), n_blobs)\n",
        "\n",
        "# white background\n",
        "cv2.floodFill(image, None, (0, 0), 255)\n",
        "\n",
        "# count the blobs with holes\n",
        "n_holes = 0\n",
        "for i in range(M):\n",
        "    for j in range(N):\n",
        "        if image[i, j] == 0:\n",
        "            if 0 < image[i, j-1] < 255:\n",
        "                n_holes += 1\n",
        "            cv2.floodFill(image, None, (j, i), 255)\n",
        "\n",
        "print('TOTAL BLOBS:', n_blobs)\n",
        "print('TOTAL HOLES:', n_holes)\n",
        "print('TOTAL IMPERFECTIONS:', n_blobs + n_holes)"
      ]
    },
    {
      "cell_type": "code",
      "execution_count": 42,
      "metadata": {},
      "outputs": [],
      "source": [
        "def addTransparency(image_path):\n",
        "    img = Image.open(SPRITES_FRONT_ROOT + image_path)\n",
        "    img = img.convert(\"RGBA\")\n",
        " \n",
        "    datas = img.getdata()\n",
        " \n",
        "    newData = []\n",
        " \n",
        "    for item in datas:\n",
        "        if item[0] > 254 and item[1] > 254 and item[2] > 254:\n",
        "            newData.append((255, 255, 255, 0))\n",
        "        else:\n",
        "            newData.append(item)\n",
        " \n",
        "    img.putdata(newData)\n",
        "    img.save(SPRITES_FRONT_ROOT_TRANSPARENT + image_path, \"PNG\")\n",
        "    return img"
      ]
    },
    {
      "cell_type": "code",
      "execution_count": 260,
      "metadata": {},
      "outputs": [],
      "source": [
        "def calculate_blobs_and_holes_for_sprite(image_path):\n",
        "    # load image with alpha channel\n",
        "    img = cv2.imread(FOLDER_FOR_BLOBS_AND_HOLES + image_path, cv2.IMREAD_UNCHANGED)\n",
        "\n",
        "    # remove remaining unwanted pixel noise\n",
        "    img[:,:,3][area_opening(img[:,:,3], 12) == 0] = 0\n",
        "\n",
        "    # extract alpha channel\n",
        "    alpha = img[:, :, 3]\n",
        "\n",
        "    # threshold alpha channel\n",
        "    alpha = cv2.threshold(alpha, 0, 255, cv2.THRESH_BINARY)[1]\n",
        "\n",
        "    # save output\n",
        "    cv2.imwrite('alpha.png', alpha)\n",
        "\n",
        "    # load binary masked image\n",
        "    image = cv2.imread(\"alpha.png\", cv2.IMREAD_GRAYSCALE)\n",
        "\n",
        "    # separate into rows and columns\n",
        "    M, N = image.shape\n",
        "\n",
        "    # count every blob\n",
        "    n_blobs = 0\n",
        "    for i in range(M):\n",
        "        for j in range(N):\n",
        "            if image[i, j] == 255:\n",
        "                n_blobs += 1\n",
        "                cv2.floodFill(image, None, (j, i), n_blobs)\n",
        "\n",
        "    # white background\n",
        "    cv2.floodFill(image, None, (0, 0), 255)\n",
        "\n",
        "    # count the blobs with holes\n",
        "    n_holes = 0\n",
        "    for i in range(M):\n",
        "        for j in range(N):\n",
        "            if image[i, j] == 0:\n",
        "                if 0 < image[i, j-1] < 255:\n",
        "                    n_holes += 1\n",
        "                cv2.floodFill(image, None, (j, i), 255)\n",
        "\n",
        "    # print('TOTAL BLOBS:', n_blobs)\n",
        "    # print('TOTAL HOLES:', n_holes)\n",
        "    # print('TOTAL IMPERFECTIONS:', n_blobs + n_holes)\n",
        "    return [n_blobs, n_holes, n_blobs + n_holes]"
      ]
    },
    {
      "cell_type": "code",
      "execution_count": 2,
      "metadata": {},
      "outputs": [],
      "source": [
        "# Iterate through all front facing sprites and make them transparent: \n",
        "SPRITES_FRONT_ROOT =  \"D:\\IDG_Malta_Master_Thesis\\pokemon_assets_generation\\_Sprite_Sheets\\PokeTypeGAN-main\\sprites_front_only/\"\n",
        "SPRITES_FRONT_ROOT_TRANSPARENT =  \"D:\\IDG_Malta_Master_Thesis\\pokemon_assets_generation\\_Sprite_Sheets\\PokeTypeGAN-main\\\\sprite_fronts_only_transparent_2/\"\n",
        "folder_dir = SPRITES_FRONT_ROOT\n",
        "# for image in os.listdir(folder_dir):\n",
        "#     addTransparency(image)"
      ]
    },
    {
      "cell_type": "code",
      "execution_count": null,
      "metadata": {},
      "outputs": [],
      "source": [
        "# now that we have transparent original sprites we can do the statistics on them\n",
        "# average number of islands/blobs \n",
        "# average number of holes \n",
        "# sprite with most blobs \n",
        "# sprite with most holes\n",
        "FOLDER_FOR_BLOBS_AND_HOLES = \"D:\\IDG_Malta_Master_Thesis\\pokemon_assets_generation\\_Sprite_Sheets\\PokeTypeGAN-main\\\\all_transparent\\generated_shapes\\\\wings/\"\n",
        "blobs_list = []\n",
        "holes_list = []\n",
        "imperfections_list = []\n",
        "most_blobs = 0\n",
        "most_blobs_sprite = \"none\"\n",
        "most_holes = 0\n",
        "most_holes_sprite = \"none\"\n",
        "most_imperfections = 0\n",
        "most_imperfections_sprite = \"none\"\n",
        "avg_blobs = 0\n",
        "avg_holes = 0\n",
        "avg_imperfections = 0\n",
        "folder_dir_transparent = FOLDER_FOR_BLOBS_AND_HOLES\n",
        "for image in os.listdir(folder_dir_transparent):\n",
        "    # print(image)\n",
        "    results = calculate_blobs_and_holes_for_sprite(image)\n",
        "    # print(results)\n",
        "    blobs_list.append(results[0])\n",
        "    holes_list.append(results[1])\n",
        "    imperfections_list.append(results[2])\n",
        "    if results[0] > most_blobs:\n",
        "        most_blobs = results[0]\n",
        "        most_blobs_sprite = image\n",
        "    if results[1] > most_holes:\n",
        "        most_holes = results[1]\n",
        "        most_holes_sprite = image\n",
        "    if results[2] > most_imperfections:\n",
        "        most_imperfections = results[2]\n",
        "        most_imperfections_sprite = image\n",
        "import numpy as np\n",
        "\n",
        "avg_blobs = np.average(blobs_list)\n",
        "avg_holes = np.average(holes_list)\n",
        "avg_imperfections = np.average(imperfections_list)\n",
        "\n",
        "print(\"Average blobs in original sprites: \" + str(avg_blobs))\n",
        "print(\"Average holes in original sprites: \" + str(avg_holes))\n",
        "print(\"Average imperfections in original sprites: \" + str(avg_imperfections))\n",
        "\n",
        "print(\"Pokemon with most blobs: \" + str(most_blobs_sprite) + \" with \" + str(most_blobs) + \" blobs.\")\n",
        "print(\"Pokemon with most holes: \" + str(most_holes_sprite) + \" with \" + str(most_holes) + \" holes.\")\n",
        "print(\"Pokemon with most imperfections: \" + str(most_imperfections_sprite) + \" with \" + str(most_imperfections) + \" imperfections.\")"
      ]
    },
    {
      "attachments": {},
      "cell_type": "markdown",
      "metadata": {},
      "source": [
        "Get pokemon pallete"
      ]
    },
    {
      "cell_type": "code",
      "execution_count": 5,
      "metadata": {},
      "outputs": [],
      "source": [
        "def get_color_palette(image_path):\n",
        "    # create ColorThief object with image path\n",
        "    color_thief = ColorThief(image_path)\n",
        "\n",
        "    # get the dominant color\n",
        "    dominant_color = color_thief.get_color(quality=1)\n",
        "\n",
        "    # create a figure and axis\n",
        "    fig, ax = plt.subplots(figsize=(1, 1))\n",
        "\n",
        "    # create a horizontal bar chart for the dominant color\n",
        "    ax.bar(0, 1, color=np.array(dominant_color)/255)\n",
        "\n",
        "    # remove ticks and labels\n",
        "    ax.set_xticks([0])\n",
        "    ax.set_yticks([])\n",
        "    ax.set_xticklabels([\"Dominant\"])\n",
        "    ax.set_yticklabels([])\n",
        "\n",
        "    # set axis limits\n",
        "    ax.set_ylim([0, 1])\n",
        "\n",
        "    # display the plot\n",
        "    plt.savefig(\"colors.png\")\n",
        "    plt.show()\n",
        "    return(dominant_color)"
      ]
    },
    {
      "cell_type": "code",
      "execution_count": null,
      "metadata": {},
      "outputs": [],
      "source": [
        "dominant_color = get_color_palette(\"D:\\IDG_Malta_Master_Thesis\\pokemon_assets_generation\\_Sprite_Sheets\\PokeTypeGAN-main\\sprites\\individual\\\\types\\\\bug\\Bug_fakemon_0.png\")\n",
        "print(dominant_color)"
      ]
    },
    {
      "cell_type": "code",
      "execution_count": null,
      "metadata": {},
      "outputs": [],
      "source": [
        "# Compute most dominant color for all original sprites\n",
        "type_folders = glob(\"_saved_original_sprites/*\")\n",
        "print(type_folders)\n",
        "for type in type_folders:\n",
        "    all_sprites = glob(type + \"/*png\")\n",
        "    dominant_colors = []\n",
        "    for sprite in all_sprites:\n",
        "        dominant_color = get_color_palette(sprite)\n",
        "        # print(dominant_color)\n",
        "        dominant_colors.append(dominant_color)\n",
        "    df = pd.DataFrame(dominant_colors).T\n",
        "    df.to_excel(excel_writer=type.partition(\"\\\\\")[2] + \".xlsx\")\n"
      ]
    },
    {
      "cell_type": "code",
      "execution_count": null,
      "metadata": {},
      "outputs": [],
      "source": [
        "# Compute most dominant color for all generated sprites\n",
        "type_folders = glob(\"individual/types/*\")\n",
        "# print(type_folders)\n",
        "for type in type_folders:\n",
        "    all_sprites = glob(type + \"/*png\")\n",
        "    # print(type)\n",
        "    dominant_colors = []\n",
        "    for sprite in all_sprites:\n",
        "        dominant_color = get_color_palette(sprite)\n",
        "        print(dominant_color)\n",
        "        dominant_colors.append(dominant_color)\n",
        "    df = pd.DataFrame(dominant_colors).T\n",
        "    df.to_excel(excel_writer=type.partition(\"\\\\\")[2] + \".xlsx\")"
      ]
    },
    {
      "cell_type": "code",
      "execution_count": null,
      "metadata": {},
      "outputs": [],
      "source": [
        "list_of_colors_RGB = [\n",
        "    [255,0,0],      # RED       #FF0000\n",
        "    [0,0,255],      # BLUE      #0000FF\n",
        "    [255,255,0],    # YELLOW    #FFFF00\n",
        "    [0,255,0],      # GREEN     #00FF00\n",
        "    [0,0,0],        # BLACK     #000000\n",
        "    [150,75,0],     # BROWN     #964B00\n",
        "    [128,0,128],    # PURPLE    #800080\n",
        "    [128,128,128],  # GREY      #808080\n",
        "    [255,255,255],  # WHITE     #FFFFFF\n",
        "    [255,192,203]   # PINK      #FFC0CB\n",
        "]\n",
        "\n",
        "# convert it into HSV\n",
        "def RGB_to_HSV(color_in_RGB):\n",
        "    color_in_HSV = colorsys.rgb_to_hsv(color_in_RGB[0]/255, color_in_RGB[1]/255, color_in_RGB[2]/255)\n",
        "    return color_in_HSV\n",
        "\n",
        "def denormalize_HSV(color):\n",
        "    denormalized_color = []\n",
        "    denormalized_color.append(color[0]*360)\n",
        "    denormalized_color.append(color[1]*100)\n",
        "    denormalized_color.append(color[2]*100)\n",
        "    return denormalized_color\n",
        "\n",
        "list_of_colors_HSV = []\n",
        "for rgb_color in list_of_colors_RGB:\n",
        "    hsv_color = RGB_to_HSV(rgb_color)\n",
        "    list_of_colors_HSV.append(hsv_color)\n",
        "\n",
        "print(list_of_colors_HSV)\n",
        "\n",
        "def get_closest_HSV_color(color):\n",
        "    sprite_dominant_color_HSV = RGB_to_HSV(color)\n",
        "    # calculate the Euclidean distance between the two colors in the HSV space\n",
        "    closet_color = []\n",
        "    smallest_distance = float('inf')\n",
        "    for list_color in list_of_colors_HSV:\n",
        "        distance = math.sqrt(sum([(a - b) ** 2 for a, b in zip(list_color, sprite_dominant_color_HSV)]))\n",
        "        if distance < smallest_distance:\n",
        "            smallest_distance = distance\n",
        "            closet_color = list_color\n",
        "    return closet_color\n",
        "\n",
        "def most_common(lst):\n",
        "    return max(set(lst), key=lst.count)\n",
        "\n",
        "original_type_folders = glob(\"sprite_fronts_only_transparent_2/*\")\n",
        "generated_type_folders = glob(\"individual/types/*\")\n",
        "# Look into a folder\n",
        "# Find dominant color for each sprite\n",
        "# Convert it into HSV\n",
        "# Find the closest HSV color\n",
        "# Find the most common closest color from all sprites\n",
        "# most_met_color_for_each_type = []\n",
        "# for type in original_type_folders:\n",
        "#     color_appearances = []\n",
        "#     all_sprites = glob(type + \"/*.png\")\n",
        "#     for sprite in all_sprites:\n",
        "#         dominant_color = get_color_palette(sprite)\n",
        "#         color_appearances.append(get_closest_HSV_color(dominant_color))\n",
        "#     common_color_HSV = denormalize_HSV(most_common(color_appearances))\n",
        "#     print(str(type) + \" \" + str(common_color_HSV))\n",
        "#     most_met_color_for_each_type.append(common_color_HSV)"
      ]
    },
    {
      "cell_type": "code",
      "execution_count": null,
      "metadata": {},
      "outputs": [],
      "source": [
        "sprite_name = \"D:\\IDG_Malta_Master_Thesis\\pokemon_assets_generation\\_Sprite_Sheets\\PokeTypeGAN-main\\sprites\\sprites_front_only_all\\ground\\\\111-gen4_hs.png\"\n",
        "dominant_color = get_color_palette(sprite_name)\n",
        "print(dominant_color)\n",
        "print(denormalize_HSV(get_closest_HSV_color(dominant_color)))"
      ]
    },
    {
      "cell_type": "code",
      "execution_count": 2,
      "metadata": {},
      "outputs": [],
      "source": [
        "def get_palette(image_path):\n",
        "    results_list = []\n",
        "    color_thief = ColorThief(image_path)\n",
        "    palette = color_thief.get_palette(color_count=10, quality=3)\n",
        "    results_list.append(palette)\n",
        "    # print(\"Results:\", palette)\n",
        "    return palette"
      ]
    },
    {
      "cell_type": "code",
      "execution_count": 3,
      "metadata": {},
      "outputs": [],
      "source": [
        "def rgb_to_hex(color):\n",
        "    return '#{:02x}{:02x}{:02x}'.format(color[0], color[1], color[2])"
      ]
    },
    {
      "cell_type": "code",
      "execution_count": 4,
      "metadata": {},
      "outputs": [],
      "source": [
        "def hex_to_rgb(hex):\n",
        "  rgb = []\n",
        "  for i in (1, 3, 5):\n",
        "    decimal = int(hex[i:i+2], 16)\n",
        "    rgb.append(decimal)\n",
        "  \n",
        "  return tuple(rgb)"
      ]
    },
    {
      "cell_type": "code",
      "execution_count": 5,
      "metadata": {},
      "outputs": [],
      "source": [
        "def normalize_rgb_color(rgb_color):\n",
        "    normalized_color = tuple(component / 255 for component in rgb_color)\n",
        "    return normalized_color"
      ]
    },
    {
      "cell_type": "code",
      "execution_count": 9,
      "metadata": {},
      "outputs": [
        {
          "name": "stdout",
          "output_type": "stream",
          "text": [
            "[(200, 169, 77), (23, 149, 5), (169, 17, 33), (11, 99, 4), (4, 5, 4), (93, 81, 4), (52, 22, 4), (6, 52, 4), (64, 64, 120)]\n"
          ]
        }
      ],
      "source": [
        "palette = get_palette(\"D:\\IDG_Malta_Master_Thesis\\pokemon_assets_generation\\_Sprite_Sheets\\PokeTypeGAN-main\\sprites\\\\all_transparent\\generated_types\\\\bug\\BugSteel_fakemon_0.png\")\n",
        "print(palette)\n",
        "# 1. Compute dominant and palette\n",
        "# 2. Convert all of them to hex\n",
        "# 3. Eliminate second hex letter for each one(#F7BF21 -> #F0B020)\n",
        "# 4. Find the most common ones\n",
        "# 5. Convert most common to RGB\n",
        "# 6. Normalize them\n",
        "# 7. Plot color graph\n",
        "\n",
        "# 2\n",
        "def convert_rgb_list_to_hex(rgb_list):\n",
        "    hex_list = []\n",
        "    for dominant_and_palette in rgb_list:\n",
        "        for color in dominant_and_palette:\n",
        "            hex_list.append(rgb_to_hex(color))\n",
        "    return hex_list\n",
        "\n",
        "# 3\n",
        "def reduce_hex_list(hex_list):\n",
        "    dumb_hex_list = []\n",
        "    for hex_color in hex_list:\n",
        "        dumb_hex_color = hex_color[0] + hex_color[1] + '0' + hex_color[3] + '0' + hex_color[5] + '0'\n",
        "        dumb_hex_list.append(dumb_hex_color)\n",
        "    return dumb_hex_list\n",
        "# 4\n",
        "def find_most_frequent_hex_colors(reduced_hex_list):\n",
        "    count_dict = Counter(reduced_hex_list)\n",
        "    sorted_list = sorted(reduced_hex_list, key=lambda x: count_dict[x], reverse=True)\n",
        "    unique_list = []\n",
        "    for fruit in sorted_list:\n",
        "        if fruit not in unique_list:\n",
        "            unique_list.append(fruit)\n",
        "    return unique_list\n",
        "\n",
        "# 5\n",
        "def convert_most_fequent_to_rgb(most_frequent_hex_colors):\n",
        "    most_freq_rgb_colors = []\n",
        "    for hex_color in most_frequent_hex_colors:\n",
        "        most_freq_rgb_colors.append(hex_to_rgb(hex_color))\n",
        "    return most_freq_rgb_colors\n",
        "\n",
        "# 6 \n",
        "def normalize_most_frequent_rgb_list(most_freq_rgb_colors):\n",
        "    most_freq_rgb_colors_normalized = []\n",
        "    for rgb_color in most_freq_rgb_colors:\n",
        "        most_freq_rgb_colors_normalized.append(normalize_rgb_color(rgb_color))\n",
        "    return most_freq_rgb_colors_normalized\n",
        "\n",
        "# 7\n",
        "def plot_color_graph(rgb_colors, type):\n",
        "    heights = np.ones((10, 1))\n",
        "    fig, ax = plt.subplots(figsize=(6, 1))\n",
        "    ax.bar(range(10), heights.flatten(), color=rgb_colors, width=1)\n",
        "    ax.set_xlim([1.5, 9.5])\n",
        "    ax.set_ylim([0, 1])\n",
        "    ax.set_xticks([])\n",
        "    ax.set_yticks([])\n",
        "    ax.set_ylabel(type)\n",
        "    plt.savefig(\"Color palette for \" + type)\n",
        "    plt.show()\n",
        "\n",
        "# new_list = [[(0,0,0), (54,54,54), (255,255,255), (255,255,255), (116, 60, 156)]]\n",
        "# hex_list = convert_rgb_list_to_hex(new_list)\n",
        "# print(hex_list)\n",
        "# reduced_hex_list = reduce_hex_list(hex_list)\n",
        "# print(reduced_hex_list)\n",
        "# most_frequent_hex_colors = find_most_frequent_hex_colors(reduced_hex_list)\n",
        "# print(most_frequent_hex_colors)\n",
        "# most_freq_rgb_colors = convert_most_fequent_to_rgb(most_frequent_hex_colors)\n",
        "# print(most_freq_rgb_colors)\n",
        "# most_freq_rgb_colors_normalized = normalize_most_frequent_rgb_list(most_freq_rgb_colors)\n",
        "# print(most_freq_rgb_colors_normalized)\n",
        "# plot_color_graph(most_freq_rgb_colors_normalized)"
      ]
    },
    {
      "cell_type": "code",
      "execution_count": 7,
      "metadata": {},
      "outputs": [],
      "source": [
        "# 1. Compute dominant and palette\n",
        "# 2. Convert all of them to hex\n",
        "# 3. Eliminate second hex letter for each one(#F7BF21 -> #F0B020)\n",
        "# 4. Find the most common ones\n",
        "# 5. Convert most common to RGB\n",
        "# 6. Normalize them\n",
        "# 7. Plot color graph\n",
        "\n",
        "def get_color_palette_chart_for_all_types(folder_path, title_starting_pos):\n",
        "    for type in folder_path:\n",
        "        print(type)\n",
        "        type_name = type[title_starting_pos:]\n",
        "        all_sprites = glob(type + \"/*png\")\n",
        "        # we need this metric for each type\n",
        "        rgb_palette_list = []\n",
        "        for sprite in all_sprites:\n",
        "            palette = get_palette(sprite)\n",
        "            rgb_palette_list.append(palette)\n",
        "        # print(rgb_palette_list)\n",
        "        hex_list = convert_rgb_list_to_hex(rgb_palette_list)\n",
        "        # print(hex_list)\n",
        "        reduced_hex_list = reduce_hex_list(hex_list)\n",
        "        # print(reduced_hex_list)\n",
        "        most_frequent_hex_colors = find_most_frequent_hex_colors(reduced_hex_list)\n",
        "        # print(most_frequent_hex_colors)\n",
        "        most_freq_rgb_colors = convert_most_fequent_to_rgb(most_frequent_hex_colors)\n",
        "        # print(most_freq_rgb_colors)\n",
        "        most_freq_rgb_colors_normalized = normalize_most_frequent_rgb_list(most_freq_rgb_colors)\n",
        "        # print(most_freq_rgb_colors_normalized)\n",
        "        plot_color_graph(most_freq_rgb_colors_normalized, type_name)"
      ]
    },
    {
      "cell_type": "code",
      "execution_count": 11,
      "metadata": {},
      "outputs": [
        {
          "name": "stdout",
          "output_type": "stream",
          "text": [
            "D:\\IDG_Malta_Master_Thesis\\pokemon_assets_generation\\_Sprite_Sheets\\PokeTypeGAN-main\\sprites\\all_transparent\\generated_types\\bug\n"
          ]
        },
        {
          "data": {
            "image/png": "[encoded data removed]",
            "text/plain": [
              "<Figure size 432x72 with 1 Axes>"
            ]
          },
          "metadata": {},
          "output_type": "display_data"
        },
        {
          "name": "stdout",
          "output_type": "stream",
          "text": [
            "D:\\IDG_Malta_Master_Thesis\\pokemon_assets_generation\\_Sprite_Sheets\\PokeTypeGAN-main\\sprites\\all_transparent\\generated_types\\dark\n"
          ]
        },
        {
          "data": {
            "image/png": "[encoded data removed]",
            "text/plain": [
              "<Figure size 432x72 with 1 Axes>"
            ]
          },
          "metadata": {},
          "output_type": "display_data"
        },
        {
          "name": "stdout",
          "output_type": "stream",
          "text": [
            "D:\\IDG_Malta_Master_Thesis\\pokemon_assets_generation\\_Sprite_Sheets\\PokeTypeGAN-main\\sprites\\all_transparent\\generated_types\\dragon\n"
          ]
        },
        {
          "data": {
            "image/png": "[encoded data removed]",
            "text/plain": [
              "<Figure size 432x72 with 1 Axes>"
            ]
          },
          "metadata": {},
          "output_type": "display_data"
        },
        {
          "name": "stdout",
          "output_type": "stream",
          "text": [
            "D:\\IDG_Malta_Master_Thesis\\pokemon_assets_generation\\_Sprite_Sheets\\PokeTypeGAN-main\\sprites\\all_transparent\\generated_types\\electric\n"
          ]
        },
        {
          "data": {
            "image/png": "[encoded data removed]",
            "text/plain": [
              "<Figure size 432x72 with 1 Axes>"
            ]
          },
          "metadata": {},
          "output_type": "display_data"
        },
        {
          "name": "stdout",
          "output_type": "stream",
          "text": [
            "D:\\IDG_Malta_Master_Thesis\\pokemon_assets_generation\\_Sprite_Sheets\\PokeTypeGAN-main\\sprites\\all_transparent\\generated_types\\fairy\n"
          ]
        },
        {
          "data": {
            "image/png": "[encoded data removed]",
            "text/plain": [
              "<Figure size 432x72 with 1 Axes>"
            ]
          },
          "metadata": {},
          "output_type": "display_data"
        },
        {
          "name": "stdout",
          "output_type": "stream",
          "text": [
            "D:\\IDG_Malta_Master_Thesis\\pokemon_assets_generation\\_Sprite_Sheets\\PokeTypeGAN-main\\sprites\\all_transparent\\generated_types\\fighting\n"
          ]
        },
        {
          "data": {
            "image/png": "[encoded data removed]",
            "text/plain": [
              "<Figure size 432x72 with 1 Axes>"
            ]
          },
          "metadata": {},
          "output_type": "display_data"
        },
        {
          "name": "stdout",
          "output_type": "stream",
          "text": [
            "D:\\IDG_Malta_Master_Thesis\\pokemon_assets_generation\\_Sprite_Sheets\\PokeTypeGAN-main\\sprites\\all_transparent\\generated_types\\fire\n"
          ]
        },
        {
          "data": {
            "image/png": "[encoded data removed]",
            "text/plain": [
              "<Figure size 432x72 with 1 Axes>"
            ]
          },
          "metadata": {},
          "output_type": "display_data"
        },
        {
          "name": "stdout",
          "output_type": "stream",
          "text": [
            "D:\\IDG_Malta_Master_Thesis\\pokemon_assets_generation\\_Sprite_Sheets\\PokeTypeGAN-main\\sprites\\all_transparent\\generated_types\\flying\n"
          ]
        },
        {
          "data": {
            "image/png": "[encoded data removed]",
            "text/plain": [
              "<Figure size 432x72 with 1 Axes>"
            ]
          },
          "metadata": {},
          "output_type": "display_data"
        },
        {
          "name": "stdout",
          "output_type": "stream",
          "text": [
            "D:\\IDG_Malta_Master_Thesis\\pokemon_assets_generation\\_Sprite_Sheets\\PokeTypeGAN-main\\sprites\\all_transparent\\generated_types\\ghost\n"
          ]
        },
        {
          "data": {
            "image/png": "[encoded data removed]",
            "text/plain": [
              "<Figure size 432x72 with 1 Axes>"
            ]
          },
          "metadata": {},
          "output_type": "display_data"
        },
        {
          "name": "stdout",
          "output_type": "stream",
          "text": [
            "D:\\IDG_Malta_Master_Thesis\\pokemon_assets_generation\\_Sprite_Sheets\\PokeTypeGAN-main\\sprites\\all_transparent\\generated_types\\grass\n"
          ]
        },
        {
          "data": {
            "image/png": "[encoded data removed]",
            "text/plain": [
              "<Figure size 432x72 with 1 Axes>"
            ]
          },
          "metadata": {},
          "output_type": "display_data"
        },
        {
          "name": "stdout",
          "output_type": "stream",
          "text": [
            "D:\\IDG_Malta_Master_Thesis\\pokemon_assets_generation\\_Sprite_Sheets\\PokeTypeGAN-main\\sprites\\all_transparent\\generated_types\\ground\n"
          ]
        },
        {
          "data": {
            "image/png": "[encoded data removed]",
            "text/plain": [
              "<Figure size 432x72 with 1 Axes>"
            ]
          },
          "metadata": {},
          "output_type": "display_data"
        },
        {
          "name": "stdout",
          "output_type": "stream",
          "text": [
            "D:\\IDG_Malta_Master_Thesis\\pokemon_assets_generation\\_Sprite_Sheets\\PokeTypeGAN-main\\sprites\\all_transparent\\generated_types\\ice\n"
          ]
        },
        {
          "data": {
            "image/png": "[encoded data removed]",
            "text/plain": [
              "<Figure size 432x72 with 1 Axes>"
            ]
          },
          "metadata": {},
          "output_type": "display_data"
        },
        {
          "name": "stdout",
          "output_type": "stream",
          "text": [
            "D:\\IDG_Malta_Master_Thesis\\pokemon_assets_generation\\_Sprite_Sheets\\PokeTypeGAN-main\\sprites\\all_transparent\\generated_types\\normal\n"
          ]
        },
        {
          "data": {
            "image/png": "[encoded data removed]",
            "text/plain": [
              "<Figure size 432x72 with 1 Axes>"
            ]
          },
          "metadata": {},
          "output_type": "display_data"
        },
        {
          "name": "stdout",
          "output_type": "stream",
          "text": [
            "D:\\IDG_Malta_Master_Thesis\\pokemon_assets_generation\\_Sprite_Sheets\\PokeTypeGAN-main\\sprites\\all_transparent\\generated_types\\poison\n"
          ]
        },
        {
          "data": {
            "image/png": "[encoded data removed]",
            "text/plain": [
              "<Figure size 432x72 with 1 Axes>"
            ]
          },
          "metadata": {},
          "output_type": "display_data"
        },
        {
          "name": "stdout",
          "output_type": "stream",
          "text": [
            "D:\\IDG_Malta_Master_Thesis\\pokemon_assets_generation\\_Sprite_Sheets\\PokeTypeGAN-main\\sprites\\all_transparent\\generated_types\\psychic\n"
          ]
        },
        {
          "data": {
            "image/png": "[encoded data removed]",
            "text/plain": [
              "<Figure size 432x72 with 1 Axes>"
            ]
          },
          "metadata": {},
          "output_type": "display_data"
        },
        {
          "name": "stdout",
          "output_type": "stream",
          "text": [
            "D:\\IDG_Malta_Master_Thesis\\pokemon_assets_generation\\_Sprite_Sheets\\PokeTypeGAN-main\\sprites\\all_transparent\\generated_types\\rock\n"
          ]
        },
        {
          "data": {
            "image/png": "[encoded data removed]",
            "text/plain": [
              "<Figure size 432x72 with 1 Axes>"
            ]
          },
          "metadata": {},
          "output_type": "display_data"
        },
        {
          "name": "stdout",
          "output_type": "stream",
          "text": [
            "D:\\IDG_Malta_Master_Thesis\\pokemon_assets_generation\\_Sprite_Sheets\\PokeTypeGAN-main\\sprites\\all_transparent\\generated_types\\steel\n"
          ]
        },
        {
          "data": {
            "image/png": "[encoded data removed]",
            "text/plain": [
              "<Figure size 432x72 with 1 Axes>"
            ]
          },
          "metadata": {},
          "output_type": "display_data"
        },
        {
          "name": "stdout",
          "output_type": "stream",
          "text": [
            "D:\\IDG_Malta_Master_Thesis\\pokemon_assets_generation\\_Sprite_Sheets\\PokeTypeGAN-main\\sprites\\all_transparent\\generated_types\\water\n"
          ]
        },
        {
          "data": {
            "image/png": "[encoded data removed]",
            "text/plain": [
              "<Figure size 432x72 with 1 Axes>"
            ]
          },
          "metadata": {},
          "output_type": "display_data"
        }
      ],
      "source": [
        "generated_type_folders = glob(\"D:\\IDG_Malta_Master_Thesis\\pokemon_assets_generation\\_Sprite_Sheets\\PokeTypeGAN-main\\sprites\\\\all_transparent\\generated_types/*\")\n",
        "get_color_palette_chart_for_all_types(generated_type_folders, 125)"
      ]
    },
    {
      "cell_type": "code",
      "execution_count": 10,
      "metadata": {},
      "outputs": [
        {
          "name": "stdout",
          "output_type": "stream",
          "text": [
            "D:\\IDG_Malta_Master_Thesis\\pokemon_assets_generation\\_Sprite_Sheets\\PokeTypeGAN-main\\sprites\\sprite_fronts_only_transparent\\bug\n"
          ]
        },
        {
          "data": {
            "image/png": "[encoded data removed]",
            "text/plain": [
              "<Figure size 432x72 with 1 Axes>"
            ]
          },
          "metadata": {},
          "output_type": "display_data"
        },
        {
          "name": "stdout",
          "output_type": "stream",
          "text": [
            "D:\\IDG_Malta_Master_Thesis\\pokemon_assets_generation\\_Sprite_Sheets\\PokeTypeGAN-main\\sprites\\sprite_fronts_only_transparent\\dark\n"
          ]
        },
        {
          "data": {
            "image/png": "[encoded data removed]",
            "text/plain": [
              "<Figure size 432x72 with 1 Axes>"
            ]
          },
          "metadata": {},
          "output_type": "display_data"
        },
        {
          "name": "stdout",
          "output_type": "stream",
          "text": [
            "D:\\IDG_Malta_Master_Thesis\\pokemon_assets_generation\\_Sprite_Sheets\\PokeTypeGAN-main\\sprites\\sprite_fronts_only_transparent\\dragons\n"
          ]
        },
        {
          "data": {
            "image/png": "[encoded data removed]",
            "text/plain": [
              "<Figure size 432x72 with 1 Axes>"
            ]
          },
          "metadata": {},
          "output_type": "display_data"
        },
        {
          "name": "stdout",
          "output_type": "stream",
          "text": [
            "D:\\IDG_Malta_Master_Thesis\\pokemon_assets_generation\\_Sprite_Sheets\\PokeTypeGAN-main\\sprites\\sprite_fronts_only_transparent\\electric\n"
          ]
        },
        {
          "data": {
            "image/png": "[encoded data removed]",
            "text/plain": [
              "<Figure size 432x72 with 1 Axes>"
            ]
          },
          "metadata": {},
          "output_type": "display_data"
        },
        {
          "name": "stdout",
          "output_type": "stream",
          "text": [
            "D:\\IDG_Malta_Master_Thesis\\pokemon_assets_generation\\_Sprite_Sheets\\PokeTypeGAN-main\\sprites\\sprite_fronts_only_transparent\\fairy\n"
          ]
        },
        {
          "data": {
            "image/png": "[encoded data removed]",
            "text/plain": [
              "<Figure size 432x72 with 1 Axes>"
            ]
          },
          "metadata": {},
          "output_type": "display_data"
        },
        {
          "name": "stdout",
          "output_type": "stream",
          "text": [
            "D:\\IDG_Malta_Master_Thesis\\pokemon_assets_generation\\_Sprite_Sheets\\PokeTypeGAN-main\\sprites\\sprite_fronts_only_transparent\\fighting\n"
          ]
        },
        {
          "data": {
            "image/png": "[encoded data removed]",
            "text/plain": [
              "<Figure size 432x72 with 1 Axes>"
            ]
          },
          "metadata": {},
          "output_type": "display_data"
        },
        {
          "name": "stdout",
          "output_type": "stream",
          "text": [
            "D:\\IDG_Malta_Master_Thesis\\pokemon_assets_generation\\_Sprite_Sheets\\PokeTypeGAN-main\\sprites\\sprite_fronts_only_transparent\\fire\n"
          ]
        },
        {
          "data": {
            "image/png": "[encoded data removed]",
            "text/plain": [
              "<Figure size 432x72 with 1 Axes>"
            ]
          },
          "metadata": {},
          "output_type": "display_data"
        },
        {
          "name": "stdout",
          "output_type": "stream",
          "text": [
            "D:\\IDG_Malta_Master_Thesis\\pokemon_assets_generation\\_Sprite_Sheets\\PokeTypeGAN-main\\sprites\\sprite_fronts_only_transparent\\flying\n"
          ]
        },
        {
          "data": {
            "image/png": "[encoded data removed]",
            "text/plain": [
              "<Figure size 432x72 with 1 Axes>"
            ]
          },
          "metadata": {},
          "output_type": "display_data"
        },
        {
          "name": "stdout",
          "output_type": "stream",
          "text": [
            "D:\\IDG_Malta_Master_Thesis\\pokemon_assets_generation\\_Sprite_Sheets\\PokeTypeGAN-main\\sprites\\sprite_fronts_only_transparent\\ghost\n"
          ]
        },
        {
          "data": {
            "image/png": "[encoded data removed]",
            "text/plain": [
              "<Figure size 432x72 with 1 Axes>"
            ]
          },
          "metadata": {},
          "output_type": "display_data"
        },
        {
          "name": "stdout",
          "output_type": "stream",
          "text": [
            "D:\\IDG_Malta_Master_Thesis\\pokemon_assets_generation\\_Sprite_Sheets\\PokeTypeGAN-main\\sprites\\sprite_fronts_only_transparent\\grass\n"
          ]
        },
        {
          "data": {
            "image/png": "[encoded data removed]",
            "text/plain": [
              "<Figure size 432x72 with 1 Axes>"
            ]
          },
          "metadata": {},
          "output_type": "display_data"
        },
        {
          "name": "stdout",
          "output_type": "stream",
          "text": [
            "D:\\IDG_Malta_Master_Thesis\\pokemon_assets_generation\\_Sprite_Sheets\\PokeTypeGAN-main\\sprites\\sprite_fronts_only_transparent\\ground\n"
          ]
        },
        {
          "data": {
            "image/png": "[encoded data removed]",
            "text/plain": [
              "<Figure size 432x72 with 1 Axes>"
            ]
          },
          "metadata": {},
          "output_type": "display_data"
        },
        {
          "name": "stdout",
          "output_type": "stream",
          "text": [
            "D:\\IDG_Malta_Master_Thesis\\pokemon_assets_generation\\_Sprite_Sheets\\PokeTypeGAN-main\\sprites\\sprite_fronts_only_transparent\\ice\n"
          ]
        },
        {
          "data": {
            "image/png": "[encoded data removed]",
            "text/plain": [
              "<Figure size 432x72 with 1 Axes>"
            ]
          },
          "metadata": {},
          "output_type": "display_data"
        },
        {
          "name": "stdout",
          "output_type": "stream",
          "text": [
            "D:\\IDG_Malta_Master_Thesis\\pokemon_assets_generation\\_Sprite_Sheets\\PokeTypeGAN-main\\sprites\\sprite_fronts_only_transparent\\normal\n"
          ]
        },
        {
          "data": {
            "image/png": "[encoded data removed]",
            "text/plain": [
              "<Figure size 432x72 with 1 Axes>"
            ]
          },
          "metadata": {},
          "output_type": "display_data"
        },
        {
          "name": "stdout",
          "output_type": "stream",
          "text": [
            "D:\\IDG_Malta_Master_Thesis\\pokemon_assets_generation\\_Sprite_Sheets\\PokeTypeGAN-main\\sprites\\sprite_fronts_only_transparent\\poison\n"
          ]
        },
        {
          "data": {
            "image/png": "[encoded data removed]",
            "text/plain": [
              "<Figure size 432x72 with 1 Axes>"
            ]
          },
          "metadata": {},
          "output_type": "display_data"
        },
        {
          "name": "stdout",
          "output_type": "stream",
          "text": [
            "D:\\IDG_Malta_Master_Thesis\\pokemon_assets_generation\\_Sprite_Sheets\\PokeTypeGAN-main\\sprites\\sprite_fronts_only_transparent\\psychic\n"
          ]
        },
        {
          "data": {
            "image/png": "[encoded data removed]",
            "text/plain": [
              "<Figure size 432x72 with 1 Axes>"
            ]
          },
          "metadata": {},
          "output_type": "display_data"
        },
        {
          "name": "stdout",
          "output_type": "stream",
          "text": [
            "D:\\IDG_Malta_Master_Thesis\\pokemon_assets_generation\\_Sprite_Sheets\\PokeTypeGAN-main\\sprites\\sprite_fronts_only_transparent\\rock\n"
          ]
        },
        {
          "data": {
            "image/png": "[encoded data removed]",
            "text/plain": [
              "<Figure size 432x72 with 1 Axes>"
            ]
          },
          "metadata": {},
          "output_type": "display_data"
        },
        {
          "name": "stdout",
          "output_type": "stream",
          "text": [
            "D:\\IDG_Malta_Master_Thesis\\pokemon_assets_generation\\_Sprite_Sheets\\PokeTypeGAN-main\\sprites\\sprite_fronts_only_transparent\\steel\n"
          ]
        },
        {
          "data": {
            "image/png": "[encoded data removed]",
            "text/plain": [
              "<Figure size 432x72 with 1 Axes>"
            ]
          },
          "metadata": {},
          "output_type": "display_data"
        },
        {
          "name": "stdout",
          "output_type": "stream",
          "text": [
            "D:\\IDG_Malta_Master_Thesis\\pokemon_assets_generation\\_Sprite_Sheets\\PokeTypeGAN-main\\sprites\\sprite_fronts_only_transparent\\water\n"
          ]
        },
        {
          "data": {
            "image/png": "[encoded data removed]",
            "text/plain": [
              "<Figure size 432x72 with 1 Axes>"
            ]
          },
          "metadata": {},
          "output_type": "display_data"
        }
      ],
      "source": [
        "original_type_folders = glob(\"D:\\IDG_Malta_Master_Thesis\\pokemon_assets_generation\\_Sprite_Sheets\\PokeTypeGAN-main\\sprites\\sprite_fronts_only_transparent/*\")\n",
        "get_color_palette_chart_for_all_types(original_type_folders, 124)"
      ]
    },
    {
      "attachments": {},
      "cell_type": "markdown",
      "metadata": {},
      "source": [
        "# Blobs"
      ]
    },
    {
      "cell_type": "code",
      "execution_count": 164,
      "metadata": {},
      "outputs": [],
      "source": [
        "def apply_mask(image_path):\n",
        "    # Open the image\n",
        "    image = Image.open(image_path)\n",
        "\n",
        "    # Convert the image to RGBA mode if it's not already in that mode\n",
        "    if image.mode != \"RGBA\":\n",
        "        image = image.convert(\"RGBA\")\n",
        "\n",
        "    # Create a new blank image of the same size and mode\n",
        "    new_image = Image.new(\"RGBA\", image.size, (255, 255, 255, 255))\n",
        "\n",
        "    # Loop over every pixel in the image\n",
        "    for x in range(image.width):\n",
        "        for y in range(image.height):\n",
        "            # Get the pixel at this position\n",
        "            pixel = image.getpixel((x, y))\n",
        "\n",
        "            # If the pixel is transparent, set it to white in the new image\n",
        "            if pixel[3] == 0:\n",
        "                new_image.putpixel((x, y), (255, 255, 255, 255))\n",
        "            # Otherwise, set it to black\n",
        "            else:\n",
        "                new_image.putpixel((x, y), (0, 0, 0, 255))\n",
        "\n",
        "    # Save the new image\n",
        "    return new_image"
      ]
    },
    {
      "cell_type": "code",
      "execution_count": 215,
      "metadata": {},
      "outputs": [],
      "source": [
        "# Symmetry\n",
        "def get_symmetry_score(image_path):\n",
        "    # Load the image\n",
        "    img = apply_mask(image_path)\n",
        "\n",
        "    # Split the image in half\n",
        "    w, h = img.size\n",
        "    half = w // 2  # horizontal axis of symmetry\n",
        "    left = img.crop((0, 0, half, h))\n",
        "    right = img.crop((half, 0, w, h))\n",
        "\n",
        "    # Flip one half\n",
        "    right = right.transpose(Image.FLIP_LEFT_RIGHT)\n",
        "\n",
        "    # Calculate the absolute difference\n",
        "    diff = np.abs(np.array(left) - np.array(right))\n",
        "\n",
        "    # Threshold the difference\n",
        "    threshold = 20\n",
        "    mask = diff > threshold\n",
        "\n",
        "    # Count the number of non-zero pixels in the mask\n",
        "    symmetry_score = np.count_nonzero(mask)\n",
        "    return symmetry_score"
      ]
    },
    {
      "cell_type": "code",
      "execution_count": null,
      "metadata": {},
      "outputs": [],
      "source": [
        "generated_shape_folders = glob(\"all_transparent/generated_shapes/*\")\n",
        "for shape in generated_shape_folders:\n",
        "    symmetries_score = []\n",
        "    all_sprites = glob(type + \"/*.png\")\n",
        "    for sprite in all_sprites:\n",
        "        symmetry_score = get_symmetry_score(sprite)\n",
        "        symmetries_score.append(symmetry_score)\n",
        "    avg_symmetry = np.average(symmetries_score)\n",
        "    print(str(shape) + \" \" + str(avg_symmetry))"
      ]
    },
    {
      "cell_type": "code",
      "execution_count": 252,
      "metadata": {},
      "outputs": [
        {
          "name": "stdout",
          "output_type": "stream",
          "text": [
            "all_transparent/generated_shapes\\ball 652.9032096288867\n"
          ]
        }
      ],
      "source": [
        "generated_shape_folders_armor = glob(\"all_transparent/original_shapes/wings/*.png\")\n",
        "for sprite in generated_shape_folders_armor:\n",
        "    symmetry_score = get_symmetry_score(sprite)\n",
        "    # print(symmetry_score)\n",
        "    symmetries_score.append(symmetry_score)\n",
        "avg_symmetry = np.average(symmetries_score)\n",
        "print(str(shape) + \" \" + str(avg_symmetry))"
      ]
    },
    {
      "cell_type": "code",
      "execution_count": null,
      "metadata": {},
      "outputs": [],
      "source": []
    }
  ],
  "metadata": {
    "accelerator": "GPU",
    "colab": {
      "background_execution": "on",
      "collapsed_sections": [
        "LH1aoSrELYTc",
        "Q_5ndYBr57A0",
        "d-WPfBEuqhVg",
        "lVLdwj8JKtoE"
      ],
      "name": "PokeTypeGAN.ipynb",
      "provenance": []
    },
    "kernelspec": {
      "display_name": "Python 3",
      "language": "python",
      "name": "python3"
    },
    "language_info": {
      "codemirror_mode": {
        "name": "ipython",
        "version": 3
      },
      "file_extension": ".py",
      "mimetype": "text/x-python",
      "name": "python",
      "nbconvert_exporter": "python",
      "pygments_lexer": "ipython3",
      "version": "3.7.2"
    },
    "vscode": {
      "interpreter": {
        "hash": "ed0e78f92ecd4392a5cd5b196c0c5822e52526e62646aaa335e88b06f1acf2f4"
      }
    }
  },
  "nbformat": 4,
  "nbformat_minor": 0
}
